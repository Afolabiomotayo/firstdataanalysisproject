{
 "cells": [
  {
   "cell_type": "markdown",
   "id": "2d48e21a-76c1-47a5-9970-b260ade026cf",
   "metadata": {},
   "source": [
    "# First DS Assignment with Python"
   ]
  },
  {
   "cell_type": "markdown",
   "id": "41db20b6-5343-49dd-9a1e-bd9c0a7c03f5",
   "metadata": {},
   "source": [
    "## Introduction\n",
    "America League Baseball is the highest level of professional baseball in the United States and Canada, consisting of teams that compete in the American League (AL) and the National League (NL). Each league is further divided into three divisions: East, Central, and West."
   ]
  },
  {
   "cell_type": "markdown",
   "id": "ad71c249-706b-4129-acb7-49e6b051af97",
   "metadata": {},
   "source": [
    "## Libraries and Packages\n",
    "These are the list of Python libraies to use:\n",
    "- Pandas\n",
    "- Numpy\n",
    "- Matplotlib\n",
    "- Seaborn"
   ]
  },
  {
   "cell_type": "markdown",
   "id": "d03435d9-3b6d-4db2-8e3a-e6095359d059",
   "metadata": {},
   "source": [
    "## Source of dataset\n",
    "The DS was gotten from\n",
    "[America League Base Ball Data](https://en.wikipedia.org/wiki/American_League)"
   ]
  },
  {
   "cell_type": "markdown",
   "id": "bf92e250-869f-48a2-be01-7f51cfcd024c",
   "metadata": {},
   "source": [
    "### Import necessary libraries"
   ]
  },
  {
   "cell_type": "code",
   "execution_count": 190,
   "id": "753c7dcb-464b-4c01-95a1-4746f3b42b6e",
   "metadata": {},
   "outputs": [],
   "source": [
    "import numpy as np\n",
    "import pandas as pd\n",
    "import matplotlib.pyplot as plt\n",
    "import seaborn as sns"
   ]
  },
  {
   "cell_type": "markdown",
   "id": "0da14536-1354-4ecc-86ed-415c0e6c8d3f",
   "metadata": {},
   "source": []
  },
  {
   "cell_type": "code",
   "execution_count": 191,
   "id": "e06fc524-1c2e-42e6-868a-9bba283037c0",
   "metadata": {},
   "outputs": [],
   "source": [
    "pd1 = pd.read_csv('albb-salaries-2003.csv')"
   ]
  },
  {
   "cell_type": "code",
   "execution_count": 192,
   "id": "13f11db5-ed71-414d-ae5a-74b2f47c8231",
   "metadata": {},
   "outputs": [
    {
     "data": {
      "text/html": [
       "<div>\n",
       "<style scoped>\n",
       "    .dataframe tbody tr th:only-of-type {\n",
       "        vertical-align: middle;\n",
       "    }\n",
       "\n",
       "    .dataframe tbody tr th {\n",
       "        vertical-align: top;\n",
       "    }\n",
       "\n",
       "    .dataframe thead th {\n",
       "        text-align: right;\n",
       "    }\n",
       "</style>\n",
       "<table border=\"1\" class=\"dataframe\">\n",
       "  <thead>\n",
       "    <tr style=\"text-align: right;\">\n",
       "      <th></th>\n",
       "      <th>Team</th>\n",
       "      <th>Player</th>\n",
       "      <th>Salary</th>\n",
       "      <th>Position</th>\n",
       "    </tr>\n",
       "  </thead>\n",
       "  <tbody>\n",
       "    <tr>\n",
       "      <th>0</th>\n",
       "      <td>New York Yankees</td>\n",
       "      <td>Acevedo, Juan</td>\n",
       "      <td>900,000</td>\n",
       "      <td>Pitcher</td>\n",
       "    </tr>\n",
       "    <tr>\n",
       "      <th>1</th>\n",
       "      <td>New York Yankees</td>\n",
       "      <td>Anderson, Jason</td>\n",
       "      <td>300,000</td>\n",
       "      <td>Pitcher</td>\n",
       "    </tr>\n",
       "    <tr>\n",
       "      <th>2</th>\n",
       "      <td>New York Yankees</td>\n",
       "      <td>Clemens, Roger</td>\n",
       "      <td>10,100,000</td>\n",
       "      <td>Pitcher</td>\n",
       "    </tr>\n",
       "    <tr>\n",
       "      <th>3</th>\n",
       "      <td>New York Yankees</td>\n",
       "      <td>Contreras, Jose</td>\n",
       "      <td>5,500,000</td>\n",
       "      <td>Pitcher</td>\n",
       "    </tr>\n",
       "    <tr>\n",
       "      <th>4</th>\n",
       "      <td>New York Yankees</td>\n",
       "      <td>Flaherty, John</td>\n",
       "      <td>750,000</td>\n",
       "      <td>Catcher</td>\n",
       "    </tr>\n",
       "  </tbody>\n",
       "</table>\n",
       "</div>"
      ],
      "text/plain": [
       "               Team           Player      Salary Position\n",
       "0  New York Yankees    Acevedo, Juan     900,000  Pitcher\n",
       "1  New York Yankees  Anderson, Jason     300,000  Pitcher\n",
       "2  New York Yankees   Clemens, Roger  10,100,000  Pitcher\n",
       "3  New York Yankees  Contreras, Jose   5,500,000  Pitcher\n",
       "4  New York Yankees   Flaherty, John     750,000  Catcher"
      ]
     },
     "execution_count": 192,
     "metadata": {},
     "output_type": "execute_result"
    }
   ],
   "source": [
    "# take a look at the dataset\n",
    "pd1.head()"
   ]
  },
  {
   "cell_type": "code",
   "execution_count": 193,
   "id": "844e47b0-9212-4c5c-b7f4-8f4421f8dee9",
   "metadata": {},
   "outputs": [
    {
     "data": {
      "text/plain": [
       "(381, 4)"
      ]
     },
     "execution_count": 193,
     "metadata": {},
     "output_type": "execute_result"
    }
   ],
   "source": [
    "pd1.shape # checking the size of the data"
   ]
  },
  {
   "cell_type": "code",
   "execution_count": 194,
   "id": "aa1ab3ad-706f-428b-a1f1-d7980494df84",
   "metadata": {},
   "outputs": [
    {
     "data": {
      "text/html": [
       "<div>\n",
       "<style scoped>\n",
       "    .dataframe tbody tr th:only-of-type {\n",
       "        vertical-align: middle;\n",
       "    }\n",
       "\n",
       "    .dataframe tbody tr th {\n",
       "        vertical-align: top;\n",
       "    }\n",
       "\n",
       "    .dataframe thead th {\n",
       "        text-align: right;\n",
       "    }\n",
       "</style>\n",
       "<table border=\"1\" class=\"dataframe\">\n",
       "  <thead>\n",
       "    <tr style=\"text-align: right;\">\n",
       "      <th></th>\n",
       "      <th>Team</th>\n",
       "      <th>Player</th>\n",
       "      <th>Salary</th>\n",
       "      <th>Position</th>\n",
       "    </tr>\n",
       "  </thead>\n",
       "  <tbody>\n",
       "    <tr>\n",
       "      <th>count</th>\n",
       "      <td>381</td>\n",
       "      <td>381</td>\n",
       "      <td>381</td>\n",
       "      <td>381</td>\n",
       "    </tr>\n",
       "    <tr>\n",
       "      <th>unique</th>\n",
       "      <td>14</td>\n",
       "      <td>381</td>\n",
       "      <td>172</td>\n",
       "      <td>7</td>\n",
       "    </tr>\n",
       "    <tr>\n",
       "      <th>top</th>\n",
       "      <td>Cleveland Indians</td>\n",
       "      <td>Acevedo, Juan</td>\n",
       "      <td>300,000</td>\n",
       "      <td>Pitcher</td>\n",
       "    </tr>\n",
       "    <tr>\n",
       "      <th>freq</th>\n",
       "      <td>31</td>\n",
       "      <td>1</td>\n",
       "      <td>44</td>\n",
       "      <td>180</td>\n",
       "    </tr>\n",
       "  </tbody>\n",
       "</table>\n",
       "</div>"
      ],
      "text/plain": [
       "                     Team         Player   Salary Position\n",
       "count                 381            381      381      381\n",
       "unique                 14            381      172        7\n",
       "top     Cleveland Indians  Acevedo, Juan  300,000  Pitcher\n",
       "freq                   31              1       44      180"
      ]
     },
     "execution_count": 194,
     "metadata": {},
     "output_type": "execute_result"
    }
   ],
   "source": [
    "pd1.describe()"
   ]
  },
  {
   "cell_type": "markdown",
   "id": "8f9197b9-04c8-4436-bdf5-34511b3bf414",
   "metadata": {},
   "source": [
    "### Question 1\n",
    "**How many pitchers does the New York Yankees have?**"
   ]
  },
  {
   "cell_type": "code",
   "execution_count": 195,
   "id": "daf2e0c3-e512-44a0-bfcf-5c3b448993b4",
   "metadata": {},
   "outputs": [
    {
     "data": {
      "text/plain": [
       "14"
      ]
     },
     "execution_count": 195,
     "metadata": {},
     "output_type": "execute_result"
    }
   ],
   "source": [
    "len(pd1[(pd1[\"Position\"] == \"Pitcher\") & (pd1[\"Team\"] == \"New York Yankees\")])"
   ]
  },
  {
   "cell_type": "markdown",
   "id": "4d004ce5-d029-4eb0-b41f-62bea0373e8a",
   "metadata": {},
   "source": [
    "After filtering down the position to be pitcher and the team to be new york yankees, the lenght of the new york yankees pitcher is **14**"
   ]
  },
  {
   "cell_type": "markdown",
   "id": "3ed33694-2880-4444-b1a3-6424aaff736a",
   "metadata": {},
   "source": [
    "### Question 2\n",
    "**Who is (are) the highest-paid player(s) in the Cleveland Indians Team?**"
   ]
  },
  {
   "cell_type": "code",
   "execution_count": 202,
   "id": "1fecf6bb-c5aa-4567-b0c6-3e1ca473a5a8",
   "metadata": {},
   "outputs": [],
   "source": [
    "clevelandI_team = pd1[pd1['Team'] == \"Cleveland Indians\"]"
   ]
  },
  {
   "cell_type": "code",
   "execution_count": 203,
   "id": "f4504aa0-1e2d-4ba3-8008-6d11a6b42de2",
   "metadata": {
    "scrolled": true
   },
   "outputs": [
    {
     "data": {
      "text/html": [
       "<div>\n",
       "<style scoped>\n",
       "    .dataframe tbody tr th:only-of-type {\n",
       "        vertical-align: middle;\n",
       "    }\n",
       "\n",
       "    .dataframe tbody tr th {\n",
       "        vertical-align: top;\n",
       "    }\n",
       "\n",
       "    .dataframe thead th {\n",
       "        text-align: right;\n",
       "    }\n",
       "</style>\n",
       "<table border=\"1\" class=\"dataframe\">\n",
       "  <thead>\n",
       "    <tr style=\"text-align: right;\">\n",
       "      <th></th>\n",
       "      <th>Team</th>\n",
       "      <th>Player</th>\n",
       "      <th>Salary</th>\n",
       "      <th>Position</th>\n",
       "      <th>intTeam</th>\n",
       "    </tr>\n",
       "  </thead>\n",
       "  <tbody>\n",
       "    <tr>\n",
       "      <th>82</th>\n",
       "      <td>Cleveland Indians</td>\n",
       "      <td>Anderson, Brian</td>\n",
       "      <td>1,500,000</td>\n",
       "      <td>Pitcher</td>\n",
       "      <td>1500000</td>\n",
       "    </tr>\n",
       "    <tr>\n",
       "      <th>83</th>\n",
       "      <td>Cleveland Indians</td>\n",
       "      <td>Baez, Danys</td>\n",
       "      <td>5,125,000</td>\n",
       "      <td>Pitcher</td>\n",
       "      <td>5125000</td>\n",
       "    </tr>\n",
       "    <tr>\n",
       "      <th>84</th>\n",
       "      <td>Cleveland Indians</td>\n",
       "      <td>Bard, Josh</td>\n",
       "      <td>302,100</td>\n",
       "      <td>Catcher</td>\n",
       "      <td>302100</td>\n",
       "    </tr>\n",
       "    <tr>\n",
       "      <th>85</th>\n",
       "      <td>Cleveland Indians</td>\n",
       "      <td>Bere, Jason</td>\n",
       "      <td>1,000,000</td>\n",
       "      <td>Pitcher</td>\n",
       "      <td>1000000</td>\n",
       "    </tr>\n",
       "    <tr>\n",
       "      <th>86</th>\n",
       "      <td>Cleveland Indians</td>\n",
       "      <td>Blake, Casey</td>\n",
       "      <td>330,000</td>\n",
       "      <td>Third Baseman</td>\n",
       "      <td>330000</td>\n",
       "    </tr>\n",
       "    <tr>\n",
       "      <th>87</th>\n",
       "      <td>Cleveland Indians</td>\n",
       "      <td>Bradley, Milton</td>\n",
       "      <td>314,300</td>\n",
       "      <td>Outfielder</td>\n",
       "      <td>314300</td>\n",
       "    </tr>\n",
       "    <tr>\n",
       "      <th>88</th>\n",
       "      <td>Cleveland Indians</td>\n",
       "      <td>Broussard, Benjamin</td>\n",
       "      <td>303,000</td>\n",
       "      <td>First Baseman</td>\n",
       "      <td>303000</td>\n",
       "    </tr>\n",
       "    <tr>\n",
       "      <th>89</th>\n",
       "      <td>Cleveland Indians</td>\n",
       "      <td>Burks, Ellis</td>\n",
       "      <td>7,166,667</td>\n",
       "      <td>Outfielder</td>\n",
       "      <td>7166667</td>\n",
       "    </tr>\n",
       "    <tr>\n",
       "      <th>90</th>\n",
       "      <td>Cleveland Indians</td>\n",
       "      <td>Davis, Jason</td>\n",
       "      <td>301,100</td>\n",
       "      <td>Pitcher</td>\n",
       "      <td>301100</td>\n",
       "    </tr>\n",
       "    <tr>\n",
       "      <th>91</th>\n",
       "      <td>Cleveland Indians</td>\n",
       "      <td>Garcia, Karim</td>\n",
       "      <td>900,000</td>\n",
       "      <td>Outfielder</td>\n",
       "      <td>900000</td>\n",
       "    </tr>\n",
       "    <tr>\n",
       "      <th>92</th>\n",
       "      <td>Cleveland Indians</td>\n",
       "      <td>Gutierrez, Ricky</td>\n",
       "      <td>3,916,667</td>\n",
       "      <td>Shortstop</td>\n",
       "      <td>3916667</td>\n",
       "    </tr>\n",
       "    <tr>\n",
       "      <th>93</th>\n",
       "      <td>Cleveland Indians</td>\n",
       "      <td>Hafner, Travis</td>\n",
       "      <td>302,200</td>\n",
       "      <td>First Baseman</td>\n",
       "      <td>302200</td>\n",
       "    </tr>\n",
       "    <tr>\n",
       "      <th>94</th>\n",
       "      <td>Cleveland Indians</td>\n",
       "      <td>Laker, Tim</td>\n",
       "      <td>400,000</td>\n",
       "      <td>Catcher</td>\n",
       "      <td>400000</td>\n",
       "    </tr>\n",
       "    <tr>\n",
       "      <th>95</th>\n",
       "      <td>Cleveland Indians</td>\n",
       "      <td>Lawton, Matt</td>\n",
       "      <td>6,750,000</td>\n",
       "      <td>Outfielder</td>\n",
       "      <td>6750000</td>\n",
       "    </tr>\n",
       "    <tr>\n",
       "      <th>96</th>\n",
       "      <td>Cleveland Indians</td>\n",
       "      <td>Lee, Cliff</td>\n",
       "      <td>300,900</td>\n",
       "      <td>Pitcher</td>\n",
       "      <td>300900</td>\n",
       "    </tr>\n",
       "    <tr>\n",
       "      <th>97</th>\n",
       "      <td>Cleveland Indians</td>\n",
       "      <td>McDonald, John</td>\n",
       "      <td>314,400</td>\n",
       "      <td>Shortstop</td>\n",
       "      <td>314400</td>\n",
       "    </tr>\n",
       "    <tr>\n",
       "      <th>98</th>\n",
       "      <td>Cleveland Indians</td>\n",
       "      <td>Mulholland, Terry</td>\n",
       "      <td>500,000</td>\n",
       "      <td>Pitcher</td>\n",
       "      <td>500000</td>\n",
       "    </tr>\n",
       "    <tr>\n",
       "      <th>99</th>\n",
       "      <td>Cleveland Indians</td>\n",
       "      <td>Myette, Aaron</td>\n",
       "      <td>307,500</td>\n",
       "      <td>Pitcher</td>\n",
       "      <td>307500</td>\n",
       "    </tr>\n",
       "    <tr>\n",
       "      <th>100</th>\n",
       "      <td>Cleveland Indians</td>\n",
       "      <td>Phillips, Brandon</td>\n",
       "      <td>300,900</td>\n",
       "      <td>Shortstop</td>\n",
       "      <td>300900</td>\n",
       "    </tr>\n",
       "    <tr>\n",
       "      <th>101</th>\n",
       "      <td>Cleveland Indians</td>\n",
       "      <td>Riske, David</td>\n",
       "      <td>314,000</td>\n",
       "      <td>Pitcher</td>\n",
       "      <td>314000</td>\n",
       "    </tr>\n",
       "    <tr>\n",
       "      <th>102</th>\n",
       "      <td>Cleveland Indians</td>\n",
       "      <td>Rodriguez, Ricardo</td>\n",
       "      <td>302,400</td>\n",
       "      <td>Pitcher</td>\n",
       "      <td>302400</td>\n",
       "    </tr>\n",
       "    <tr>\n",
       "      <th>103</th>\n",
       "      <td>Cleveland Indians</td>\n",
       "      <td>Sabathia, CC</td>\n",
       "      <td>1,100,000</td>\n",
       "      <td>Pitcher</td>\n",
       "      <td>1100000</td>\n",
       "    </tr>\n",
       "    <tr>\n",
       "      <th>104</th>\n",
       "      <td>Cleveland Indians</td>\n",
       "      <td>Sadler, Carl</td>\n",
       "      <td>303,200</td>\n",
       "      <td>Pitcher</td>\n",
       "      <td>303200</td>\n",
       "    </tr>\n",
       "    <tr>\n",
       "      <th>105</th>\n",
       "      <td>Cleveland Indians</td>\n",
       "      <td>Santiago, Jose</td>\n",
       "      <td>600,000</td>\n",
       "      <td>Pitcher</td>\n",
       "      <td>600000</td>\n",
       "    </tr>\n",
       "    <tr>\n",
       "      <th>106</th>\n",
       "      <td>Cleveland Indians</td>\n",
       "      <td>Selby, Bill</td>\n",
       "      <td>325,000</td>\n",
       "      <td>Second Baseman</td>\n",
       "      <td>325000</td>\n",
       "    </tr>\n",
       "    <tr>\n",
       "      <th>107</th>\n",
       "      <td>Cleveland Indians</td>\n",
       "      <td>Spencer, Shane</td>\n",
       "      <td>600,000</td>\n",
       "      <td>Outfielder</td>\n",
       "      <td>600000</td>\n",
       "    </tr>\n",
       "    <tr>\n",
       "      <th>108</th>\n",
       "      <td>Cleveland Indians</td>\n",
       "      <td>Traber, Billy</td>\n",
       "      <td>300,000</td>\n",
       "      <td>Pitcher</td>\n",
       "      <td>300000</td>\n",
       "    </tr>\n",
       "    <tr>\n",
       "      <th>109</th>\n",
       "      <td>Cleveland Indians</td>\n",
       "      <td>Vizquel, Omar</td>\n",
       "      <td>5,500,000</td>\n",
       "      <td>Shortstop</td>\n",
       "      <td>5500000</td>\n",
       "    </tr>\n",
       "    <tr>\n",
       "      <th>110</th>\n",
       "      <td>Cleveland Indians</td>\n",
       "      <td>Westbrook, Jake</td>\n",
       "      <td>305,500</td>\n",
       "      <td>Pitcher</td>\n",
       "      <td>305500</td>\n",
       "    </tr>\n",
       "    <tr>\n",
       "      <th>111</th>\n",
       "      <td>Cleveland Indians</td>\n",
       "      <td>Wickman, Bob</td>\n",
       "      <td>6,000,000</td>\n",
       "      <td>Pitcher</td>\n",
       "      <td>6000000</td>\n",
       "    </tr>\n",
       "    <tr>\n",
       "      <th>112</th>\n",
       "      <td>Cleveland Indians</td>\n",
       "      <td>Wohlers, Mark</td>\n",
       "      <td>2,600,000</td>\n",
       "      <td>Pitcher</td>\n",
       "      <td>2600000</td>\n",
       "    </tr>\n",
       "  </tbody>\n",
       "</table>\n",
       "</div>"
      ],
      "text/plain": [
       "                  Team               Player     Salary        Position  \\\n",
       "82   Cleveland Indians      Anderson, Brian  1,500,000         Pitcher   \n",
       "83   Cleveland Indians          Baez, Danys  5,125,000         Pitcher   \n",
       "84   Cleveland Indians           Bard, Josh    302,100         Catcher   \n",
       "85   Cleveland Indians          Bere, Jason  1,000,000         Pitcher   \n",
       "86   Cleveland Indians         Blake, Casey    330,000   Third Baseman   \n",
       "87   Cleveland Indians      Bradley, Milton    314,300      Outfielder   \n",
       "88   Cleveland Indians  Broussard, Benjamin    303,000   First Baseman   \n",
       "89   Cleveland Indians         Burks, Ellis  7,166,667      Outfielder   \n",
       "90   Cleveland Indians         Davis, Jason    301,100         Pitcher   \n",
       "91   Cleveland Indians        Garcia, Karim    900,000      Outfielder   \n",
       "92   Cleveland Indians     Gutierrez, Ricky  3,916,667       Shortstop   \n",
       "93   Cleveland Indians       Hafner, Travis    302,200   First Baseman   \n",
       "94   Cleveland Indians           Laker, Tim    400,000         Catcher   \n",
       "95   Cleveland Indians         Lawton, Matt  6,750,000      Outfielder   \n",
       "96   Cleveland Indians           Lee, Cliff    300,900         Pitcher   \n",
       "97   Cleveland Indians       McDonald, John    314,400       Shortstop   \n",
       "98   Cleveland Indians    Mulholland, Terry    500,000         Pitcher   \n",
       "99   Cleveland Indians        Myette, Aaron    307,500         Pitcher   \n",
       "100  Cleveland Indians    Phillips, Brandon    300,900       Shortstop   \n",
       "101  Cleveland Indians         Riske, David    314,000         Pitcher   \n",
       "102  Cleveland Indians   Rodriguez, Ricardo    302,400         Pitcher   \n",
       "103  Cleveland Indians         Sabathia, CC  1,100,000         Pitcher   \n",
       "104  Cleveland Indians         Sadler, Carl    303,200         Pitcher   \n",
       "105  Cleveland Indians       Santiago, Jose    600,000         Pitcher   \n",
       "106  Cleveland Indians          Selby, Bill    325,000  Second Baseman   \n",
       "107  Cleveland Indians       Spencer, Shane    600,000      Outfielder   \n",
       "108  Cleveland Indians        Traber, Billy    300,000         Pitcher   \n",
       "109  Cleveland Indians        Vizquel, Omar  5,500,000       Shortstop   \n",
       "110  Cleveland Indians      Westbrook, Jake    305,500         Pitcher   \n",
       "111  Cleveland Indians         Wickman, Bob  6,000,000         Pitcher   \n",
       "112  Cleveland Indians        Wohlers, Mark  2,600,000         Pitcher   \n",
       "\n",
       "     intTeam  \n",
       "82   1500000  \n",
       "83   5125000  \n",
       "84    302100  \n",
       "85   1000000  \n",
       "86    330000  \n",
       "87    314300  \n",
       "88    303000  \n",
       "89   7166667  \n",
       "90    301100  \n",
       "91    900000  \n",
       "92   3916667  \n",
       "93    302200  \n",
       "94    400000  \n",
       "95   6750000  \n",
       "96    300900  \n",
       "97    314400  \n",
       "98    500000  \n",
       "99    307500  \n",
       "100   300900  \n",
       "101   314000  \n",
       "102   302400  \n",
       "103  1100000  \n",
       "104   303200  \n",
       "105   600000  \n",
       "106   325000  \n",
       "107   600000  \n",
       "108   300000  \n",
       "109  5500000  \n",
       "110   305500  \n",
       "111  6000000  \n",
       "112  2600000  "
      ]
     },
     "execution_count": 203,
     "metadata": {},
     "output_type": "execute_result"
    }
   ],
   "source": [
    "clevelandI_team"
   ]
  },
  {
   "cell_type": "code",
   "execution_count": null,
   "id": "cfd5d119-c7a0-40ed-9426-94b1a875c42a",
   "metadata": {},
   "outputs": [],
   "source": []
  },
  {
   "cell_type": "code",
   "execution_count": 204,
   "id": "fdc7301c-2570-4f49-bf84-c0dbd2faf693",
   "metadata": {},
   "outputs": [],
   "source": [
    "int_team = pd1[\"Salary\"].apply(lambda x: int(\"\".join(x.split(\",\"))))"
   ]
  },
  {
   "cell_type": "code",
   "execution_count": 205,
   "id": "219bf055-124f-4578-bc27-bb17acfba1c2",
   "metadata": {},
   "outputs": [],
   "source": [
    "pd1[\"intTeam\"] = int_team"
   ]
  },
  {
   "cell_type": "code",
   "execution_count": 206,
   "id": "57f114e7-593b-4a2e-add9-de62d481d578",
   "metadata": {},
   "outputs": [
    {
     "data": {
      "text/html": [
       "<div>\n",
       "<style scoped>\n",
       "    .dataframe tbody tr th:only-of-type {\n",
       "        vertical-align: middle;\n",
       "    }\n",
       "\n",
       "    .dataframe tbody tr th {\n",
       "        vertical-align: top;\n",
       "    }\n",
       "\n",
       "    .dataframe thead th {\n",
       "        text-align: right;\n",
       "    }\n",
       "</style>\n",
       "<table border=\"1\" class=\"dataframe\">\n",
       "  <thead>\n",
       "    <tr style=\"text-align: right;\">\n",
       "      <th></th>\n",
       "      <th>Team</th>\n",
       "      <th>Player</th>\n",
       "      <th>Salary</th>\n",
       "      <th>Position</th>\n",
       "      <th>intTeam</th>\n",
       "    </tr>\n",
       "  </thead>\n",
       "  <tbody>\n",
       "    <tr>\n",
       "      <th>89</th>\n",
       "      <td>Cleveland Indians</td>\n",
       "      <td>Burks, Ellis</td>\n",
       "      <td>7,166,667</td>\n",
       "      <td>Outfielder</td>\n",
       "      <td>7166667</td>\n",
       "    </tr>\n",
       "  </tbody>\n",
       "</table>\n",
       "</div>"
      ],
      "text/plain": [
       "                 Team        Player     Salary    Position  intTeam\n",
       "89  Cleveland Indians  Burks, Ellis  7,166,667  Outfielder  7166667"
      ]
     },
     "execution_count": 206,
     "metadata": {},
     "output_type": "execute_result"
    }
   ],
   "source": [
    "clevelandI_team[clevelandI_team[\"intTeam\"] == max(clevelandI_team[\"intTeam\"])] "
   ]
  },
  {
   "cell_type": "markdown",
   "id": "2db3e4f7-c862-4c88-a9e0-16e5859667d3",
   "metadata": {},
   "source": [
    "### Question3\n",
    "\n",
    "**What is the average salary of the Outfielder players in Tampa Bay Devil Rays?**"
   ]
  },
  {
   "cell_type": "code",
   "execution_count": 207,
   "id": "712451fe-1051-4da6-81cb-567318f1347f",
   "metadata": {},
   "outputs": [],
   "source": [
    "Tampa_outfielders = pd1[(pd1[\"Position\"] == \"Outfielder\") & (pd1[\"Team\"] == \"Tampa Bay Devil Rays\")]"
   ]
  },
  {
   "cell_type": "code",
   "execution_count": 208,
   "id": "b69db976-0062-49e8-ad42-2f8029f24746",
   "metadata": {},
   "outputs": [
    {
     "data": {
      "text/html": [
       "<div>\n",
       "<style scoped>\n",
       "    .dataframe tbody tr th:only-of-type {\n",
       "        vertical-align: middle;\n",
       "    }\n",
       "\n",
       "    .dataframe tbody tr th {\n",
       "        vertical-align: top;\n",
       "    }\n",
       "\n",
       "    .dataframe thead th {\n",
       "        text-align: right;\n",
       "    }\n",
       "</style>\n",
       "<table border=\"1\" class=\"dataframe\">\n",
       "  <thead>\n",
       "    <tr style=\"text-align: right;\">\n",
       "      <th></th>\n",
       "      <th>Team</th>\n",
       "      <th>Player</th>\n",
       "      <th>Salary</th>\n",
       "      <th>Position</th>\n",
       "      <th>intTeam</th>\n",
       "    </tr>\n",
       "  </thead>\n",
       "  <tbody>\n",
       "    <tr>\n",
       "      <th>171</th>\n",
       "      <td>Tampa Bay Devil Rays</td>\n",
       "      <td>Baldelli, Rocco</td>\n",
       "      <td>300,000</td>\n",
       "      <td>Outfielder</td>\n",
       "      <td>300000</td>\n",
       "    </tr>\n",
       "    <tr>\n",
       "      <th>175</th>\n",
       "      <td>Tampa Bay Devil Rays</td>\n",
       "      <td>Crawford, Carl</td>\n",
       "      <td>300,000</td>\n",
       "      <td>Outfielder</td>\n",
       "      <td>300000</td>\n",
       "    </tr>\n",
       "    <tr>\n",
       "      <th>176</th>\n",
       "      <td>Tampa Bay Devil Rays</td>\n",
       "      <td>Grieve, Ben</td>\n",
       "      <td>5,500,000</td>\n",
       "      <td>Outfielder</td>\n",
       "      <td>5500000</td>\n",
       "    </tr>\n",
       "    <tr>\n",
       "      <th>182</th>\n",
       "      <td>Tampa Bay Devil Rays</td>\n",
       "      <td>Martin, Al</td>\n",
       "      <td>300,000</td>\n",
       "      <td>Outfielder</td>\n",
       "      <td>300000</td>\n",
       "    </tr>\n",
       "  </tbody>\n",
       "</table>\n",
       "</div>"
      ],
      "text/plain": [
       "                     Team           Player     Salary    Position  intTeam\n",
       "171  Tampa Bay Devil Rays  Baldelli, Rocco    300,000  Outfielder   300000\n",
       "175  Tampa Bay Devil Rays   Crawford, Carl    300,000  Outfielder   300000\n",
       "176  Tampa Bay Devil Rays      Grieve, Ben  5,500,000  Outfielder  5500000\n",
       "182  Tampa Bay Devil Rays       Martin, Al    300,000  Outfielder   300000"
      ]
     },
     "execution_count": 208,
     "metadata": {},
     "output_type": "execute_result"
    }
   ],
   "source": [
    "Tampa_outfielders"
   ]
  },
  {
   "cell_type": "code",
   "execution_count": 209,
   "id": "1ee865f4-f0e9-4851-8635-ef1c77f8f578",
   "metadata": {},
   "outputs": [
    {
     "data": {
      "text/plain": [
       "1600000.0"
      ]
     },
     "execution_count": 209,
     "metadata": {},
     "output_type": "execute_result"
    }
   ],
   "source": [
    "Tampa_outfielders[\"intTeam\"].mean()"
   ]
  },
  {
   "cell_type": "code",
   "execution_count": null,
   "id": "430c6edb-e682-4620-848e-ff3d4b331084",
   "metadata": {},
   "outputs": [],
   "source": []
  },
  {
   "cell_type": "markdown",
   "id": "c18ddf0c-e258-4e77-a494-12c16a22f429",
   "metadata": {},
   "source": [
    "### Question4\n",
    "**What is the name of the Catcher earning the lowest salary in the Minnesota Twins Team?**"
   ]
  },
  {
   "cell_type": "code",
   "execution_count": 210,
   "id": "ff83891a-71f3-4f81-b758-4865c433e288",
   "metadata": {},
   "outputs": [],
   "source": [
    "X = pd1[(pd1[\"Team\"]== \"Minnesota Twins\") & (pd1[\"Position\"] == \"Catcher\")]"
   ]
  },
  {
   "cell_type": "code",
   "execution_count": 211,
   "id": "b02b9931-3aee-46f9-a2d4-d67a4c2f3cd3",
   "metadata": {},
   "outputs": [
    {
     "data": {
      "text/html": [
       "<div>\n",
       "<style scoped>\n",
       "    .dataframe tbody tr th:only-of-type {\n",
       "        vertical-align: middle;\n",
       "    }\n",
       "\n",
       "    .dataframe tbody tr th {\n",
       "        vertical-align: top;\n",
       "    }\n",
       "\n",
       "    .dataframe thead th {\n",
       "        text-align: right;\n",
       "    }\n",
       "</style>\n",
       "<table border=\"1\" class=\"dataframe\">\n",
       "  <thead>\n",
       "    <tr style=\"text-align: right;\">\n",
       "      <th></th>\n",
       "      <th>Team</th>\n",
       "      <th>Player</th>\n",
       "      <th>Salary</th>\n",
       "      <th>Position</th>\n",
       "      <th>intTeam</th>\n",
       "    </tr>\n",
       "  </thead>\n",
       "  <tbody>\n",
       "    <tr>\n",
       "      <th>232</th>\n",
       "      <td>Minnesota Twins</td>\n",
       "      <td>Lecroy, Matt</td>\n",
       "      <td>312,500</td>\n",
       "      <td>Catcher</td>\n",
       "      <td>312500</td>\n",
       "    </tr>\n",
       "    <tr>\n",
       "      <th>238</th>\n",
       "      <td>Minnesota Twins</td>\n",
       "      <td>Pierzynski, AJ</td>\n",
       "      <td>365,000</td>\n",
       "      <td>Catcher</td>\n",
       "      <td>365000</td>\n",
       "    </tr>\n",
       "    <tr>\n",
       "      <th>239</th>\n",
       "      <td>Minnesota Twins</td>\n",
       "      <td>Prince, Tom</td>\n",
       "      <td>450,000</td>\n",
       "      <td>Catcher</td>\n",
       "      <td>450000</td>\n",
       "    </tr>\n",
       "  </tbody>\n",
       "</table>\n",
       "</div>"
      ],
      "text/plain": [
       "                Team          Player   Salary Position  intTeam\n",
       "232  Minnesota Twins    Lecroy, Matt  312,500  Catcher   312500\n",
       "238  Minnesota Twins  Pierzynski, AJ  365,000  Catcher   365000\n",
       "239  Minnesota Twins     Prince, Tom  450,000  Catcher   450000"
      ]
     },
     "execution_count": 211,
     "metadata": {},
     "output_type": "execute_result"
    }
   ],
   "source": [
    "X"
   ]
  },
  {
   "cell_type": "code",
   "execution_count": 212,
   "id": "9058335d-b9b2-4cab-a3ce-957e6abd16f9",
   "metadata": {
    "scrolled": true
   },
   "outputs": [],
   "source": [
    "X=X.sort_values(\"Salary\", ascending = True).iloc[0]"
   ]
  },
  {
   "cell_type": "code",
   "execution_count": 213,
   "id": "74104f80-757f-4865-b607-c76e50000b30",
   "metadata": {},
   "outputs": [
    {
     "data": {
      "text/plain": [
       "'Lecroy, Matt'"
      ]
     },
     "execution_count": 213,
     "metadata": {},
     "output_type": "execute_result"
    }
   ],
   "source": [
    "X[\"Player\"]"
   ]
  },
  {
   "cell_type": "code",
   "execution_count": null,
   "id": "f0f7ca5b-3973-4b13-b068-8a40fc580aad",
   "metadata": {},
   "outputs": [],
   "source": []
  },
  {
   "cell_type": "markdown",
   "id": "bd12532d-a1cc-4bea-9067-f488f68d7cdc",
   "metadata": {},
   "source": [
    "### Question 5\n",
    "\n",
    "**What is the total number of players in the Kansas City Royals Team?**"
   ]
  },
  {
   "cell_type": "code",
   "execution_count": 214,
   "id": "70d88552-fd93-46bf-b633-00442b04c480",
   "metadata": {},
   "outputs": [],
   "source": [
    "pd5=pd1[(pd1[\"Team\"] == \"Kansas City Royals\")]"
   ]
  },
  {
   "cell_type": "code",
   "execution_count": 215,
   "id": "f451cd7a-ff99-4dea-a03f-b8f2e0e1915b",
   "metadata": {},
   "outputs": [
    {
     "data": {
      "text/html": [
       "<div>\n",
       "<style scoped>\n",
       "    .dataframe tbody tr th:only-of-type {\n",
       "        vertical-align: middle;\n",
       "    }\n",
       "\n",
       "    .dataframe tbody tr th {\n",
       "        vertical-align: top;\n",
       "    }\n",
       "\n",
       "    .dataframe thead th {\n",
       "        text-align: right;\n",
       "    }\n",
       "</style>\n",
       "<table border=\"1\" class=\"dataframe\">\n",
       "  <thead>\n",
       "    <tr style=\"text-align: right;\">\n",
       "      <th></th>\n",
       "      <th>Team</th>\n",
       "      <th>Player</th>\n",
       "      <th>Salary</th>\n",
       "      <th>Position</th>\n",
       "      <th>intTeam</th>\n",
       "    </tr>\n",
       "  </thead>\n",
       "  <tbody>\n",
       "    <tr>\n",
       "      <th>194</th>\n",
       "      <td>Kansas City Royals</td>\n",
       "      <td>Affeldt, Jeremy</td>\n",
       "      <td>313,000</td>\n",
       "      <td>Pitcher</td>\n",
       "      <td>313000</td>\n",
       "    </tr>\n",
       "    <tr>\n",
       "      <th>195</th>\n",
       "      <td>Kansas City Royals</td>\n",
       "      <td>Asencio, Miguel</td>\n",
       "      <td>314,000</td>\n",
       "      <td>Pitcher</td>\n",
       "      <td>314000</td>\n",
       "    </tr>\n",
       "    <tr>\n",
       "      <th>196</th>\n",
       "      <td>Kansas City Royals</td>\n",
       "      <td>Beltran, Carlos</td>\n",
       "      <td>6,000,000</td>\n",
       "      <td>Outfielder</td>\n",
       "      <td>6000000</td>\n",
       "    </tr>\n",
       "    <tr>\n",
       "      <th>197</th>\n",
       "      <td>Kansas City Royals</td>\n",
       "      <td>Berger, Grandon</td>\n",
       "      <td>304,000</td>\n",
       "      <td>Outfielder</td>\n",
       "      <td>304000</td>\n",
       "    </tr>\n",
       "    <tr>\n",
       "      <th>198</th>\n",
       "      <td>Kansas City Royals</td>\n",
       "      <td>Berroa, Angel</td>\n",
       "      <td>302,000</td>\n",
       "      <td>Shortstop</td>\n",
       "      <td>302000</td>\n",
       "    </tr>\n",
       "    <tr>\n",
       "      <th>199</th>\n",
       "      <td>Kansas City Royals</td>\n",
       "      <td>Brown, Dermal</td>\n",
       "      <td>309,500</td>\n",
       "      <td>Outfielder</td>\n",
       "      <td>309500</td>\n",
       "    </tr>\n",
       "    <tr>\n",
       "      <th>200</th>\n",
       "      <td>Kansas City Royals</td>\n",
       "      <td>Bukvich, Ryan</td>\n",
       "      <td>304,500</td>\n",
       "      <td>Pitcher</td>\n",
       "      <td>304500</td>\n",
       "    </tr>\n",
       "    <tr>\n",
       "      <th>201</th>\n",
       "      <td>Kansas City Royals</td>\n",
       "      <td>Carrasco, DJ</td>\n",
       "      <td>300,000</td>\n",
       "      <td>Pitcher</td>\n",
       "      <td>300000</td>\n",
       "    </tr>\n",
       "    <tr>\n",
       "      <th>202</th>\n",
       "      <td>Kansas City Royals</td>\n",
       "      <td>Difelice, Mike</td>\n",
       "      <td>625,000</td>\n",
       "      <td>Catcher</td>\n",
       "      <td>625000</td>\n",
       "    </tr>\n",
       "    <tr>\n",
       "      <th>203</th>\n",
       "      <td>Kansas City Royals</td>\n",
       "      <td>Febles, Carlos</td>\n",
       "      <td>775,000</td>\n",
       "      <td>Second Baseman</td>\n",
       "      <td>775000</td>\n",
       "    </tr>\n",
       "    <tr>\n",
       "      <th>204</th>\n",
       "      <td>Kansas City Royals</td>\n",
       "      <td>George, Chris</td>\n",
       "      <td>303,500</td>\n",
       "      <td>Pitcher</td>\n",
       "      <td>303500</td>\n",
       "    </tr>\n",
       "    <tr>\n",
       "      <th>205</th>\n",
       "      <td>Kansas City Royals</td>\n",
       "      <td>Grimsley, Jason</td>\n",
       "      <td>2,000,000</td>\n",
       "      <td>Pitcher</td>\n",
       "      <td>2000000</td>\n",
       "    </tr>\n",
       "    <tr>\n",
       "      <th>206</th>\n",
       "      <td>Kansas City Royals</td>\n",
       "      <td>Harvey, Ken</td>\n",
       "      <td>300,000</td>\n",
       "      <td>First Baseman</td>\n",
       "      <td>300000</td>\n",
       "    </tr>\n",
       "    <tr>\n",
       "      <th>207</th>\n",
       "      <td>Kansas City Royals</td>\n",
       "      <td>Hernandez, Runelvys</td>\n",
       "      <td>305,500</td>\n",
       "      <td>Pitcher</td>\n",
       "      <td>305500</td>\n",
       "    </tr>\n",
       "    <tr>\n",
       "      <th>208</th>\n",
       "      <td>Kansas City Royals</td>\n",
       "      <td>Ibanez, Raul</td>\n",
       "      <td>3,000,000</td>\n",
       "      <td>Outfielder</td>\n",
       "      <td>3000000</td>\n",
       "    </tr>\n",
       "    <tr>\n",
       "      <th>209</th>\n",
       "      <td>Kansas City Royals</td>\n",
       "      <td>Johnson, Rontrez</td>\n",
       "      <td>300,000</td>\n",
       "      <td>Outfielder</td>\n",
       "      <td>300000</td>\n",
       "    </tr>\n",
       "    <tr>\n",
       "      <th>210</th>\n",
       "      <td>Kansas City Royals</td>\n",
       "      <td>Lopez, Albie</td>\n",
       "      <td>1,500,000</td>\n",
       "      <td>Pitcher</td>\n",
       "      <td>1500000</td>\n",
       "    </tr>\n",
       "    <tr>\n",
       "      <th>211</th>\n",
       "      <td>Kansas City Royals</td>\n",
       "      <td>Lopez, Mendy</td>\n",
       "      <td>300,000</td>\n",
       "      <td>Shortstop</td>\n",
       "      <td>300000</td>\n",
       "    </tr>\n",
       "    <tr>\n",
       "      <th>212</th>\n",
       "      <td>Kansas City Royals</td>\n",
       "      <td>MacDougal, Mike</td>\n",
       "      <td>301,000</td>\n",
       "      <td>Pitcher</td>\n",
       "      <td>301000</td>\n",
       "    </tr>\n",
       "    <tr>\n",
       "      <th>213</th>\n",
       "      <td>Kansas City Royals</td>\n",
       "      <td>May, Darrell</td>\n",
       "      <td>450,000</td>\n",
       "      <td>Pitcher</td>\n",
       "      <td>450000</td>\n",
       "    </tr>\n",
       "    <tr>\n",
       "      <th>214</th>\n",
       "      <td>Kansas City Royals</td>\n",
       "      <td>Mayne, Brent</td>\n",
       "      <td>2,750,000</td>\n",
       "      <td>Catcher</td>\n",
       "      <td>2750000</td>\n",
       "    </tr>\n",
       "    <tr>\n",
       "      <th>215</th>\n",
       "      <td>Kansas City Royals</td>\n",
       "      <td>Randa, Joe</td>\n",
       "      <td>4,500,000</td>\n",
       "      <td>Third Baseman</td>\n",
       "      <td>4500000</td>\n",
       "    </tr>\n",
       "    <tr>\n",
       "      <th>216</th>\n",
       "      <td>Kansas City Royals</td>\n",
       "      <td>Relaford, Desi</td>\n",
       "      <td>900,000</td>\n",
       "      <td>Shortstop</td>\n",
       "      <td>900000</td>\n",
       "    </tr>\n",
       "    <tr>\n",
       "      <th>217</th>\n",
       "      <td>Kansas City Royals</td>\n",
       "      <td>Sweeney, Mike</td>\n",
       "      <td>11,000,000</td>\n",
       "      <td>First Baseman</td>\n",
       "      <td>11000000</td>\n",
       "    </tr>\n",
       "    <tr>\n",
       "      <th>218</th>\n",
       "      <td>Kansas City Royals</td>\n",
       "      <td>Tucker, Michael</td>\n",
       "      <td>2,750,000</td>\n",
       "      <td>Outfielder</td>\n",
       "      <td>2750000</td>\n",
       "    </tr>\n",
       "    <tr>\n",
       "      <th>219</th>\n",
       "      <td>Kansas City Royals</td>\n",
       "      <td>Wilson, Kris</td>\n",
       "      <td>311,000</td>\n",
       "      <td>Pitcher</td>\n",
       "      <td>311000</td>\n",
       "    </tr>\n",
       "  </tbody>\n",
       "</table>\n",
       "</div>"
      ],
      "text/plain": [
       "                   Team               Player      Salary        Position  \\\n",
       "194  Kansas City Royals      Affeldt, Jeremy     313,000         Pitcher   \n",
       "195  Kansas City Royals      Asencio, Miguel     314,000         Pitcher   \n",
       "196  Kansas City Royals      Beltran, Carlos   6,000,000      Outfielder   \n",
       "197  Kansas City Royals      Berger, Grandon     304,000      Outfielder   \n",
       "198  Kansas City Royals        Berroa, Angel     302,000       Shortstop   \n",
       "199  Kansas City Royals        Brown, Dermal     309,500      Outfielder   \n",
       "200  Kansas City Royals        Bukvich, Ryan     304,500         Pitcher   \n",
       "201  Kansas City Royals         Carrasco, DJ     300,000         Pitcher   \n",
       "202  Kansas City Royals       Difelice, Mike     625,000         Catcher   \n",
       "203  Kansas City Royals       Febles, Carlos     775,000  Second Baseman   \n",
       "204  Kansas City Royals        George, Chris     303,500         Pitcher   \n",
       "205  Kansas City Royals      Grimsley, Jason   2,000,000         Pitcher   \n",
       "206  Kansas City Royals          Harvey, Ken     300,000   First Baseman   \n",
       "207  Kansas City Royals  Hernandez, Runelvys     305,500         Pitcher   \n",
       "208  Kansas City Royals         Ibanez, Raul   3,000,000      Outfielder   \n",
       "209  Kansas City Royals     Johnson, Rontrez     300,000      Outfielder   \n",
       "210  Kansas City Royals         Lopez, Albie   1,500,000         Pitcher   \n",
       "211  Kansas City Royals         Lopez, Mendy     300,000       Shortstop   \n",
       "212  Kansas City Royals      MacDougal, Mike     301,000         Pitcher   \n",
       "213  Kansas City Royals         May, Darrell     450,000         Pitcher   \n",
       "214  Kansas City Royals         Mayne, Brent   2,750,000         Catcher   \n",
       "215  Kansas City Royals           Randa, Joe   4,500,000   Third Baseman   \n",
       "216  Kansas City Royals       Relaford, Desi     900,000       Shortstop   \n",
       "217  Kansas City Royals        Sweeney, Mike  11,000,000   First Baseman   \n",
       "218  Kansas City Royals      Tucker, Michael   2,750,000      Outfielder   \n",
       "219  Kansas City Royals         Wilson, Kris     311,000         Pitcher   \n",
       "\n",
       "      intTeam  \n",
       "194    313000  \n",
       "195    314000  \n",
       "196   6000000  \n",
       "197    304000  \n",
       "198    302000  \n",
       "199    309500  \n",
       "200    304500  \n",
       "201    300000  \n",
       "202    625000  \n",
       "203    775000  \n",
       "204    303500  \n",
       "205   2000000  \n",
       "206    300000  \n",
       "207    305500  \n",
       "208   3000000  \n",
       "209    300000  \n",
       "210   1500000  \n",
       "211    300000  \n",
       "212    301000  \n",
       "213    450000  \n",
       "214   2750000  \n",
       "215   4500000  \n",
       "216    900000  \n",
       "217  11000000  \n",
       "218   2750000  \n",
       "219    311000  "
      ]
     },
     "execution_count": 215,
     "metadata": {},
     "output_type": "execute_result"
    }
   ],
   "source": [
    "pd5"
   ]
  },
  {
   "cell_type": "code",
   "execution_count": 216,
   "id": "2a566717-5423-42d8-b6c7-0750ac6931e5",
   "metadata": {},
   "outputs": [
    {
     "data": {
      "text/plain": [
       "26"
      ]
     },
     "execution_count": 216,
     "metadata": {},
     "output_type": "execute_result"
    }
   ],
   "source": [
    "len(pd5[\"Team\"])"
   ]
  },
  {
   "cell_type": "code",
   "execution_count": null,
   "id": "68c2c1d1-a8ff-4570-9f08-c3c39591bfc4",
   "metadata": {},
   "outputs": [],
   "source": []
  },
  {
   "cell_type": "markdown",
   "id": "8a61065d-ce1e-4027-ba83-451e8cd86123",
   "metadata": {},
   "source": [
    "### Question 6\n",
    "\n",
    "**How many First Basemen does the Oakland Athletics Team have?**"
   ]
  },
  {
   "cell_type": "code",
   "execution_count": 106,
   "id": "03d3a5b4-1453-456c-ba6a-258ab34c6ac1",
   "metadata": {},
   "outputs": [],
   "source": [
    "pd6=pd1[(pd1[\"Team\"] == \"Oakland Athletics\") & (pd1[\"Position\"] == \"First Baseman\")]"
   ]
  },
  {
   "cell_type": "code",
   "execution_count": 107,
   "id": "7cf598c5-66f8-4a7f-8e97-f76dd936bc20",
   "metadata": {},
   "outputs": [
    {
     "data": {
      "text/html": [
       "<div>\n",
       "<style scoped>\n",
       "    .dataframe tbody tr th:only-of-type {\n",
       "        vertical-align: middle;\n",
       "    }\n",
       "\n",
       "    .dataframe tbody tr th {\n",
       "        vertical-align: top;\n",
       "    }\n",
       "\n",
       "    .dataframe thead th {\n",
       "        text-align: right;\n",
       "    }\n",
       "</style>\n",
       "<table border=\"1\" class=\"dataframe\">\n",
       "  <thead>\n",
       "    <tr style=\"text-align: right;\">\n",
       "      <th></th>\n",
       "      <th>Team</th>\n",
       "      <th>Player</th>\n",
       "      <th>Salary</th>\n",
       "      <th>Position</th>\n",
       "      <th>intTeam</th>\n",
       "    </tr>\n",
       "  </thead>\n",
       "  <tbody>\n",
       "    <tr>\n",
       "      <th>329</th>\n",
       "      <td>Oakland Athletics</td>\n",
       "      <td>Durazo, Erubiel</td>\n",
       "      <td>1,065,000</td>\n",
       "      <td>First Baseman</td>\n",
       "      <td>1065000</td>\n",
       "    </tr>\n",
       "  </tbody>\n",
       "</table>\n",
       "</div>"
      ],
      "text/plain": [
       "                  Team           Player     Salary       Position  intTeam\n",
       "329  Oakland Athletics  Durazo, Erubiel  1,065,000  First Baseman  1065000"
      ]
     },
     "execution_count": 107,
     "metadata": {},
     "output_type": "execute_result"
    }
   ],
   "source": [
    "pd6"
   ]
  },
  {
   "cell_type": "code",
   "execution_count": 108,
   "id": "74270296-13f0-4da1-af40-88f3e90c40c3",
   "metadata": {},
   "outputs": [
    {
     "data": {
      "text/plain": [
       "1"
      ]
     },
     "execution_count": 108,
     "metadata": {},
     "output_type": "execute_result"
    }
   ],
   "source": [
    "len(pd6)"
   ]
  },
  {
   "cell_type": "code",
   "execution_count": null,
   "id": "84d7cf1f-bdd1-4841-a597-707876eb61ec",
   "metadata": {},
   "outputs": [],
   "source": []
  },
  {
   "cell_type": "markdown",
   "id": "0b8ecb8a-2917-441d-bbe7-98b4bfd9ba0a",
   "metadata": {},
   "source": [
    "### Question 7\n",
    "\n",
    "**How much money does the Texas Rangers Team pay their players each month in total?**"
   ]
  },
  {
   "cell_type": "code",
   "execution_count": 115,
   "id": "683c8adc-da77-4553-b9f3-c97f5df2989c",
   "metadata": {},
   "outputs": [],
   "source": [
    "pd7=pd1[(pd1[\"Team\"] == \"Texas Rangers\")]"
   ]
  },
  {
   "cell_type": "code",
   "execution_count": 116,
   "id": "f0ff9f5e-592e-4be8-8f05-c4d38f614310",
   "metadata": {},
   "outputs": [
    {
     "data": {
      "text/html": [
       "<div>\n",
       "<style scoped>\n",
       "    .dataframe tbody tr th:only-of-type {\n",
       "        vertical-align: middle;\n",
       "    }\n",
       "\n",
       "    .dataframe tbody tr th {\n",
       "        vertical-align: top;\n",
       "    }\n",
       "\n",
       "    .dataframe thead th {\n",
       "        text-align: right;\n",
       "    }\n",
       "</style>\n",
       "<table border=\"1\" class=\"dataframe\">\n",
       "  <thead>\n",
       "    <tr style=\"text-align: right;\">\n",
       "      <th></th>\n",
       "      <th>Team</th>\n",
       "      <th>Player</th>\n",
       "      <th>Salary</th>\n",
       "      <th>Position</th>\n",
       "      <th>intTeam</th>\n",
       "    </tr>\n",
       "  </thead>\n",
       "  <tbody>\n",
       "    <tr>\n",
       "      <th>351</th>\n",
       "      <td>Texas Rangers</td>\n",
       "      <td>Blalock, Hank</td>\n",
       "      <td>302,500</td>\n",
       "      <td>Third Baseman</td>\n",
       "      <td>302500</td>\n",
       "    </tr>\n",
       "    <tr>\n",
       "      <th>352</th>\n",
       "      <td>Texas Rangers</td>\n",
       "      <td>Clark, Jermaine</td>\n",
       "      <td>300,000</td>\n",
       "      <td>Second Baseman</td>\n",
       "      <td>300000</td>\n",
       "    </tr>\n",
       "    <tr>\n",
       "      <th>353</th>\n",
       "      <td>Texas Rangers</td>\n",
       "      <td>Cordero, Francisco</td>\n",
       "      <td>900,000</td>\n",
       "      <td>Pitcher</td>\n",
       "      <td>900000</td>\n",
       "    </tr>\n",
       "    <tr>\n",
       "      <th>354</th>\n",
       "      <td>Texas Rangers</td>\n",
       "      <td>Diaz, Einar</td>\n",
       "      <td>1,837,500</td>\n",
       "      <td>Catcher</td>\n",
       "      <td>1837500</td>\n",
       "    </tr>\n",
       "    <tr>\n",
       "      <th>355</th>\n",
       "      <td>Texas Rangers</td>\n",
       "      <td>Everett, Carl</td>\n",
       "      <td>9,150,000</td>\n",
       "      <td>Outfielder</td>\n",
       "      <td>9150000</td>\n",
       "    </tr>\n",
       "    <tr>\n",
       "      <th>356</th>\n",
       "      <td>Texas Rangers</td>\n",
       "      <td>Fultz, Aaron</td>\n",
       "      <td>600,000</td>\n",
       "      <td>Pitcher</td>\n",
       "      <td>600000</td>\n",
       "    </tr>\n",
       "    <tr>\n",
       "      <th>357</th>\n",
       "      <td>Texas Rangers</td>\n",
       "      <td>Garcia, Reynaldo</td>\n",
       "      <td>300,000</td>\n",
       "      <td>Pitcher</td>\n",
       "      <td>300000</td>\n",
       "    </tr>\n",
       "    <tr>\n",
       "      <th>358</th>\n",
       "      <td>Texas Rangers</td>\n",
       "      <td>Glanville, Doug</td>\n",
       "      <td>1,000,000</td>\n",
       "      <td>Outfielder</td>\n",
       "      <td>1000000</td>\n",
       "    </tr>\n",
       "    <tr>\n",
       "      <th>359</th>\n",
       "      <td>Texas Rangers</td>\n",
       "      <td>Gonzalez, Juan</td>\n",
       "      <td>13,000,000</td>\n",
       "      <td>Outfielder</td>\n",
       "      <td>13000000</td>\n",
       "    </tr>\n",
       "    <tr>\n",
       "      <th>360</th>\n",
       "      <td>Texas Rangers</td>\n",
       "      <td>Greene, Todd</td>\n",
       "      <td>750,000</td>\n",
       "      <td>Catcher</td>\n",
       "      <td>750000</td>\n",
       "    </tr>\n",
       "    <tr>\n",
       "      <th>361</th>\n",
       "      <td>Texas Rangers</td>\n",
       "      <td>Greer, Rusty</td>\n",
       "      <td>7,000,000</td>\n",
       "      <td>Outfielder</td>\n",
       "      <td>7000000</td>\n",
       "    </tr>\n",
       "    <tr>\n",
       "      <th>362</th>\n",
       "      <td>Texas Rangers</td>\n",
       "      <td>Kreuter, Chad</td>\n",
       "      <td>750,000</td>\n",
       "      <td>Catcher</td>\n",
       "      <td>750000</td>\n",
       "    </tr>\n",
       "    <tr>\n",
       "      <th>363</th>\n",
       "      <td>Texas Rangers</td>\n",
       "      <td>Lamb, Mike</td>\n",
       "      <td>440,000</td>\n",
       "      <td>Third Baseman</td>\n",
       "      <td>440000</td>\n",
       "    </tr>\n",
       "    <tr>\n",
       "      <th>364</th>\n",
       "      <td>Texas Rangers</td>\n",
       "      <td>Lewis, Colby</td>\n",
       "      <td>302,500</td>\n",
       "      <td>Pitcher</td>\n",
       "      <td>302500</td>\n",
       "    </tr>\n",
       "    <tr>\n",
       "      <th>365</th>\n",
       "      <td>Texas Rangers</td>\n",
       "      <td>Mench, Kevin</td>\n",
       "      <td>327,500</td>\n",
       "      <td>Outfielder</td>\n",
       "      <td>327500</td>\n",
       "    </tr>\n",
       "    <tr>\n",
       "      <th>366</th>\n",
       "      <td>Texas Rangers</td>\n",
       "      <td>Nitkowski, CJ</td>\n",
       "      <td>550,000</td>\n",
       "      <td>Pitcher</td>\n",
       "      <td>550000</td>\n",
       "    </tr>\n",
       "    <tr>\n",
       "      <th>367</th>\n",
       "      <td>Texas Rangers</td>\n",
       "      <td>Palmeiro, Rafael</td>\n",
       "      <td>9,000,000</td>\n",
       "      <td>First Baseman</td>\n",
       "      <td>9000000</td>\n",
       "    </tr>\n",
       "    <tr>\n",
       "      <th>368</th>\n",
       "      <td>Texas Rangers</td>\n",
       "      <td>Park, Chan Ho</td>\n",
       "      <td>13,000,000</td>\n",
       "      <td>Pitcher</td>\n",
       "      <td>13000000</td>\n",
       "    </tr>\n",
       "    <tr>\n",
       "      <th>369</th>\n",
       "      <td>Texas Rangers</td>\n",
       "      <td>Perry, Herbert</td>\n",
       "      <td>1,300,000</td>\n",
       "      <td>Third Baseman</td>\n",
       "      <td>1300000</td>\n",
       "    </tr>\n",
       "    <tr>\n",
       "      <th>370</th>\n",
       "      <td>Texas Rangers</td>\n",
       "      <td>Powell, Jay</td>\n",
       "      <td>3,250,000</td>\n",
       "      <td>Pitcher</td>\n",
       "      <td>3250000</td>\n",
       "    </tr>\n",
       "    <tr>\n",
       "      <th>371</th>\n",
       "      <td>Texas Rangers</td>\n",
       "      <td>Rodriguez, Alex</td>\n",
       "      <td>22,000,000</td>\n",
       "      <td>Shortstop</td>\n",
       "      <td>22000000</td>\n",
       "    </tr>\n",
       "    <tr>\n",
       "      <th>372</th>\n",
       "      <td>Texas Rangers</td>\n",
       "      <td>Sierra, Ruben</td>\n",
       "      <td>600,000</td>\n",
       "      <td>Outfielder</td>\n",
       "      <td>600000</td>\n",
       "    </tr>\n",
       "    <tr>\n",
       "      <th>373</th>\n",
       "      <td>Texas Rangers</td>\n",
       "      <td>Teixeira, Mark</td>\n",
       "      <td>750,000</td>\n",
       "      <td>Third Baseman</td>\n",
       "      <td>750000</td>\n",
       "    </tr>\n",
       "    <tr>\n",
       "      <th>374</th>\n",
       "      <td>Texas Rangers</td>\n",
       "      <td>Thomson, John</td>\n",
       "      <td>1,300,000</td>\n",
       "      <td>Pitcher</td>\n",
       "      <td>1300000</td>\n",
       "    </tr>\n",
       "    <tr>\n",
       "      <th>375</th>\n",
       "      <td>Texas Rangers</td>\n",
       "      <td>Urbina, Ugueth</td>\n",
       "      <td>4,500,000</td>\n",
       "      <td>Pitcher</td>\n",
       "      <td>4500000</td>\n",
       "    </tr>\n",
       "    <tr>\n",
       "      <th>376</th>\n",
       "      <td>Texas Rangers</td>\n",
       "      <td>Valdes, Ismael</td>\n",
       "      <td>2,500,000</td>\n",
       "      <td>Pitcher</td>\n",
       "      <td>2500000</td>\n",
       "    </tr>\n",
       "    <tr>\n",
       "      <th>377</th>\n",
       "      <td>Texas Rangers</td>\n",
       "      <td>Van Poppel, Todd</td>\n",
       "      <td>2,500,000</td>\n",
       "      <td>Pitcher</td>\n",
       "      <td>2500000</td>\n",
       "    </tr>\n",
       "    <tr>\n",
       "      <th>378</th>\n",
       "      <td>Texas Rangers</td>\n",
       "      <td>Yan, Esteban</td>\n",
       "      <td>1,500,000</td>\n",
       "      <td>Pitcher</td>\n",
       "      <td>1500000</td>\n",
       "    </tr>\n",
       "    <tr>\n",
       "      <th>379</th>\n",
       "      <td>Texas Rangers</td>\n",
       "      <td>Young, Mike B</td>\n",
       "      <td>415,000</td>\n",
       "      <td>Shortstop</td>\n",
       "      <td>415000</td>\n",
       "    </tr>\n",
       "    <tr>\n",
       "      <th>380</th>\n",
       "      <td>Texas Rangers</td>\n",
       "      <td>Zimmerman, Jeff</td>\n",
       "      <td>3,366,667</td>\n",
       "      <td>Pitcher</td>\n",
       "      <td>3366667</td>\n",
       "    </tr>\n",
       "  </tbody>\n",
       "</table>\n",
       "</div>"
      ],
      "text/plain": [
       "              Team              Player      Salary        Position   intTeam\n",
       "351  Texas Rangers       Blalock, Hank     302,500   Third Baseman    302500\n",
       "352  Texas Rangers     Clark, Jermaine     300,000  Second Baseman    300000\n",
       "353  Texas Rangers  Cordero, Francisco     900,000         Pitcher    900000\n",
       "354  Texas Rangers         Diaz, Einar   1,837,500         Catcher   1837500\n",
       "355  Texas Rangers       Everett, Carl   9,150,000      Outfielder   9150000\n",
       "356  Texas Rangers        Fultz, Aaron     600,000         Pitcher    600000\n",
       "357  Texas Rangers    Garcia, Reynaldo     300,000         Pitcher    300000\n",
       "358  Texas Rangers     Glanville, Doug   1,000,000      Outfielder   1000000\n",
       "359  Texas Rangers      Gonzalez, Juan  13,000,000      Outfielder  13000000\n",
       "360  Texas Rangers        Greene, Todd     750,000         Catcher    750000\n",
       "361  Texas Rangers        Greer, Rusty   7,000,000      Outfielder   7000000\n",
       "362  Texas Rangers       Kreuter, Chad     750,000         Catcher    750000\n",
       "363  Texas Rangers          Lamb, Mike     440,000   Third Baseman    440000\n",
       "364  Texas Rangers        Lewis, Colby     302,500         Pitcher    302500\n",
       "365  Texas Rangers        Mench, Kevin     327,500      Outfielder    327500\n",
       "366  Texas Rangers       Nitkowski, CJ     550,000         Pitcher    550000\n",
       "367  Texas Rangers    Palmeiro, Rafael   9,000,000   First Baseman   9000000\n",
       "368  Texas Rangers       Park, Chan Ho  13,000,000         Pitcher  13000000\n",
       "369  Texas Rangers      Perry, Herbert   1,300,000   Third Baseman   1300000\n",
       "370  Texas Rangers         Powell, Jay   3,250,000         Pitcher   3250000\n",
       "371  Texas Rangers     Rodriguez, Alex  22,000,000       Shortstop  22000000\n",
       "372  Texas Rangers       Sierra, Ruben     600,000      Outfielder    600000\n",
       "373  Texas Rangers      Teixeira, Mark     750,000   Third Baseman    750000\n",
       "374  Texas Rangers       Thomson, John   1,300,000         Pitcher   1300000\n",
       "375  Texas Rangers      Urbina, Ugueth   4,500,000         Pitcher   4500000\n",
       "376  Texas Rangers      Valdes, Ismael   2,500,000         Pitcher   2500000\n",
       "377  Texas Rangers    Van Poppel, Todd   2,500,000         Pitcher   2500000\n",
       "378  Texas Rangers        Yan, Esteban   1,500,000         Pitcher   1500000\n",
       "379  Texas Rangers       Young, Mike B     415,000       Shortstop    415000\n",
       "380  Texas Rangers     Zimmerman, Jeff   3,366,667         Pitcher   3366667"
      ]
     },
     "execution_count": 116,
     "metadata": {},
     "output_type": "execute_result"
    }
   ],
   "source": [
    "pd7"
   ]
  },
  {
   "cell_type": "code",
   "execution_count": 117,
   "id": "cfcf5b9e-6562-44d2-8fcf-c06e008973bf",
   "metadata": {},
   "outputs": [
    {
     "data": {
      "text/plain": [
       "103491667"
      ]
     },
     "execution_count": 117,
     "metadata": {},
     "output_type": "execute_result"
    }
   ],
   "source": [
    "pd7[\"intTeam\"].sum()"
   ]
  },
  {
   "cell_type": "code",
   "execution_count": null,
   "id": "3e4ecb0f-90e6-4302-a765-6ead2d3b14a2",
   "metadata": {},
   "outputs": [],
   "source": []
  },
  {
   "cell_type": "markdown",
   "id": "f46d5d58-edc1-4ec4-9278-2b03b7aa7d7e",
   "metadata": {},
   "source": [
    "### Question 8\n",
    "\n",
    "**What position does the highest-paid player in the American League (AL) baseball play?**"
   ]
  },
  {
   "cell_type": "code",
   "execution_count": 122,
   "id": "2de02cf6-a981-494b-9c79-4911fe9de598",
   "metadata": {},
   "outputs": [],
   "source": [
    "pd8= pd1[pd1[\"intTeam\"] ==pd1[\"intTeam\"].max()]"
   ]
  },
  {
   "cell_type": "code",
   "execution_count": 123,
   "id": "394ea683-27da-429d-97b1-58044ae18b4f",
   "metadata": {},
   "outputs": [
    {
     "data": {
      "text/html": [
       "<div>\n",
       "<style scoped>\n",
       "    .dataframe tbody tr th:only-of-type {\n",
       "        vertical-align: middle;\n",
       "    }\n",
       "\n",
       "    .dataframe tbody tr th {\n",
       "        vertical-align: top;\n",
       "    }\n",
       "\n",
       "    .dataframe thead th {\n",
       "        text-align: right;\n",
       "    }\n",
       "</style>\n",
       "<table border=\"1\" class=\"dataframe\">\n",
       "  <thead>\n",
       "    <tr style=\"text-align: right;\">\n",
       "      <th></th>\n",
       "      <th>Team</th>\n",
       "      <th>Player</th>\n",
       "      <th>Salary</th>\n",
       "      <th>Position</th>\n",
       "      <th>intTeam</th>\n",
       "    </tr>\n",
       "  </thead>\n",
       "  <tbody>\n",
       "    <tr>\n",
       "      <th>371</th>\n",
       "      <td>Texas Rangers</td>\n",
       "      <td>Rodriguez, Alex</td>\n",
       "      <td>22,000,000</td>\n",
       "      <td>Shortstop</td>\n",
       "      <td>22000000</td>\n",
       "    </tr>\n",
       "  </tbody>\n",
       "</table>\n",
       "</div>"
      ],
      "text/plain": [
       "              Team           Player      Salary   Position   intTeam\n",
       "371  Texas Rangers  Rodriguez, Alex  22,000,000  Shortstop  22000000"
      ]
     },
     "execution_count": 123,
     "metadata": {},
     "output_type": "execute_result"
    }
   ],
   "source": [
    "pd8"
   ]
  },
  {
   "cell_type": "code",
   "execution_count": 126,
   "id": "a739e921-616a-4c24-a65f-aef557d1f54d",
   "metadata": {},
   "outputs": [
    {
     "data": {
      "text/plain": [
       "371    Shortstop\n",
       "Name: Position, dtype: object"
      ]
     },
     "execution_count": 126,
     "metadata": {},
     "output_type": "execute_result"
    }
   ],
   "source": [
    "pd8[\"Position\"]"
   ]
  },
  {
   "cell_type": "code",
   "execution_count": null,
   "id": "19ab4594-8ddf-41bd-be52-cc64081d0705",
   "metadata": {},
   "outputs": [],
   "source": []
  },
  {
   "cell_type": "markdown",
   "id": "5a946f47-1f31-4e0d-b0df-b937135a27bd",
   "metadata": {},
   "source": [
    "### Question 9\n",
    "**Which baseball team pays its players the highest salaries in the AL East division?**"
   ]
  },
  {
   "cell_type": "code",
   "execution_count": 222,
   "id": "b57b072e-9080-49dc-8e88-20dd7e1453a6",
   "metadata": {},
   "outputs": [],
   "source": [
    "pd9 = pd1[pd1[\"Team\"].isin([\"Baltimore Orioles\", \"Boston Red Sox\", \"New York Yankees\", \"Tampa Bay Devil Rays\", \"Toronto Blue Jays\"])]"
   ]
  },
  {
   "cell_type": "code",
   "execution_count": 223,
   "id": "8574fbcf-f9f7-4daf-9eb2-191e85a7a0b3",
   "metadata": {},
   "outputs": [
    {
     "data": {
      "text/html": [
       "<div>\n",
       "<style scoped>\n",
       "    .dataframe tbody tr th:only-of-type {\n",
       "        vertical-align: middle;\n",
       "    }\n",
       "\n",
       "    .dataframe tbody tr th {\n",
       "        vertical-align: top;\n",
       "    }\n",
       "\n",
       "    .dataframe thead th {\n",
       "        text-align: right;\n",
       "    }\n",
       "</style>\n",
       "<table border=\"1\" class=\"dataframe\">\n",
       "  <thead>\n",
       "    <tr style=\"text-align: right;\">\n",
       "      <th></th>\n",
       "      <th>Team</th>\n",
       "      <th>Player</th>\n",
       "      <th>Salary</th>\n",
       "      <th>Position</th>\n",
       "      <th>intTeam</th>\n",
       "    </tr>\n",
       "  </thead>\n",
       "  <tbody>\n",
       "    <tr>\n",
       "      <th>0</th>\n",
       "      <td>New York Yankees</td>\n",
       "      <td>Acevedo, Juan</td>\n",
       "      <td>900,000</td>\n",
       "      <td>Pitcher</td>\n",
       "      <td>900000</td>\n",
       "    </tr>\n",
       "    <tr>\n",
       "      <th>1</th>\n",
       "      <td>New York Yankees</td>\n",
       "      <td>Anderson, Jason</td>\n",
       "      <td>300,000</td>\n",
       "      <td>Pitcher</td>\n",
       "      <td>300000</td>\n",
       "    </tr>\n",
       "    <tr>\n",
       "      <th>2</th>\n",
       "      <td>New York Yankees</td>\n",
       "      <td>Clemens, Roger</td>\n",
       "      <td>10,100,000</td>\n",
       "      <td>Pitcher</td>\n",
       "      <td>10100000</td>\n",
       "    </tr>\n",
       "    <tr>\n",
       "      <th>3</th>\n",
       "      <td>New York Yankees</td>\n",
       "      <td>Contreras, Jose</td>\n",
       "      <td>5,500,000</td>\n",
       "      <td>Pitcher</td>\n",
       "      <td>5500000</td>\n",
       "    </tr>\n",
       "    <tr>\n",
       "      <th>4</th>\n",
       "      <td>New York Yankees</td>\n",
       "      <td>Flaherty, John</td>\n",
       "      <td>750,000</td>\n",
       "      <td>Catcher</td>\n",
       "      <td>750000</td>\n",
       "    </tr>\n",
       "    <tr>\n",
       "      <th>...</th>\n",
       "      <td>...</td>\n",
       "      <td>...</td>\n",
       "      <td>...</td>\n",
       "      <td>...</td>\n",
       "      <td>...</td>\n",
       "    </tr>\n",
       "    <tr>\n",
       "      <th>189</th>\n",
       "      <td>Tampa Bay Devil Rays</td>\n",
       "      <td>Shumpert, Terry</td>\n",
       "      <td>300,000</td>\n",
       "      <td>Second Baseman</td>\n",
       "      <td>300000</td>\n",
       "    </tr>\n",
       "    <tr>\n",
       "      <th>190</th>\n",
       "      <td>Tampa Bay Devil Rays</td>\n",
       "      <td>Sosa, Jorge</td>\n",
       "      <td>300,000</td>\n",
       "      <td>Pitcher</td>\n",
       "      <td>300000</td>\n",
       "    </tr>\n",
       "    <tr>\n",
       "      <th>191</th>\n",
       "      <td>Tampa Bay Devil Rays</td>\n",
       "      <td>Valentin, Javier</td>\n",
       "      <td>300,000</td>\n",
       "      <td>Catcher</td>\n",
       "      <td>300000</td>\n",
       "    </tr>\n",
       "    <tr>\n",
       "      <th>192</th>\n",
       "      <td>Tampa Bay Devil Rays</td>\n",
       "      <td>Venafro, Mike</td>\n",
       "      <td>300,000</td>\n",
       "      <td>Pitcher</td>\n",
       "      <td>300000</td>\n",
       "    </tr>\n",
       "    <tr>\n",
       "      <th>193</th>\n",
       "      <td>Tampa Bay Devil Rays</td>\n",
       "      <td>Zambrano, Victor</td>\n",
       "      <td>300,000</td>\n",
       "      <td>Pitcher</td>\n",
       "      <td>300000</td>\n",
       "    </tr>\n",
       "  </tbody>\n",
       "</table>\n",
       "<p>109 rows × 5 columns</p>\n",
       "</div>"
      ],
      "text/plain": [
       "                     Team            Player      Salary        Position  \\\n",
       "0        New York Yankees     Acevedo, Juan     900,000         Pitcher   \n",
       "1        New York Yankees   Anderson, Jason     300,000         Pitcher   \n",
       "2        New York Yankees    Clemens, Roger  10,100,000         Pitcher   \n",
       "3        New York Yankees   Contreras, Jose   5,500,000         Pitcher   \n",
       "4        New York Yankees    Flaherty, John     750,000         Catcher   \n",
       "..                    ...               ...         ...             ...   \n",
       "189  Tampa Bay Devil Rays   Shumpert, Terry     300,000  Second Baseman   \n",
       "190  Tampa Bay Devil Rays       Sosa, Jorge     300,000         Pitcher   \n",
       "191  Tampa Bay Devil Rays  Valentin, Javier     300,000         Catcher   \n",
       "192  Tampa Bay Devil Rays     Venafro, Mike     300,000         Pitcher   \n",
       "193  Tampa Bay Devil Rays  Zambrano, Victor     300,000         Pitcher   \n",
       "\n",
       "      intTeam  \n",
       "0      900000  \n",
       "1      300000  \n",
       "2    10100000  \n",
       "3     5500000  \n",
       "4      750000  \n",
       "..        ...  \n",
       "189    300000  \n",
       "190    300000  \n",
       "191    300000  \n",
       "192    300000  \n",
       "193    300000  \n",
       "\n",
       "[109 rows x 5 columns]"
      ]
     },
     "execution_count": 223,
     "metadata": {},
     "output_type": "execute_result"
    }
   ],
   "source": [
    "pd9"
   ]
  },
  {
   "cell_type": "code",
   "execution_count": null,
   "id": "ec4b1542-1fe0-467c-ab99-9de1e6d21714",
   "metadata": {},
   "outputs": [],
   "source": []
  },
  {
   "cell_type": "code",
   "execution_count": 224,
   "id": "38322342-244f-4126-acc5-fed462bb4d6e",
   "metadata": {},
   "outputs": [],
   "source": [
    "pdNY = pd9[pd9[\"Team\"] == \"New York Yankees\"]"
   ]
  },
  {
   "cell_type": "code",
   "execution_count": 225,
   "id": "fef51760-2260-495d-8b31-72d4693e9957",
   "metadata": {},
   "outputs": [
    {
     "data": {
      "text/html": [
       "<div>\n",
       "<style scoped>\n",
       "    .dataframe tbody tr th:only-of-type {\n",
       "        vertical-align: middle;\n",
       "    }\n",
       "\n",
       "    .dataframe tbody tr th {\n",
       "        vertical-align: top;\n",
       "    }\n",
       "\n",
       "    .dataframe thead th {\n",
       "        text-align: right;\n",
       "    }\n",
       "</style>\n",
       "<table border=\"1\" class=\"dataframe\">\n",
       "  <thead>\n",
       "    <tr style=\"text-align: right;\">\n",
       "      <th></th>\n",
       "      <th>Team</th>\n",
       "      <th>Player</th>\n",
       "      <th>Salary</th>\n",
       "      <th>Position</th>\n",
       "      <th>intTeam</th>\n",
       "    </tr>\n",
       "  </thead>\n",
       "  <tbody>\n",
       "    <tr>\n",
       "      <th>0</th>\n",
       "      <td>New York Yankees</td>\n",
       "      <td>Acevedo, Juan</td>\n",
       "      <td>900,000</td>\n",
       "      <td>Pitcher</td>\n",
       "      <td>900000</td>\n",
       "    </tr>\n",
       "    <tr>\n",
       "      <th>1</th>\n",
       "      <td>New York Yankees</td>\n",
       "      <td>Anderson, Jason</td>\n",
       "      <td>300,000</td>\n",
       "      <td>Pitcher</td>\n",
       "      <td>300000</td>\n",
       "    </tr>\n",
       "    <tr>\n",
       "      <th>2</th>\n",
       "      <td>New York Yankees</td>\n",
       "      <td>Clemens, Roger</td>\n",
       "      <td>10,100,000</td>\n",
       "      <td>Pitcher</td>\n",
       "      <td>10100000</td>\n",
       "    </tr>\n",
       "    <tr>\n",
       "      <th>3</th>\n",
       "      <td>New York Yankees</td>\n",
       "      <td>Contreras, Jose</td>\n",
       "      <td>5,500,000</td>\n",
       "      <td>Pitcher</td>\n",
       "      <td>5500000</td>\n",
       "    </tr>\n",
       "    <tr>\n",
       "      <th>4</th>\n",
       "      <td>New York Yankees</td>\n",
       "      <td>Flaherty, John</td>\n",
       "      <td>750,000</td>\n",
       "      <td>Catcher</td>\n",
       "      <td>750000</td>\n",
       "    </tr>\n",
       "  </tbody>\n",
       "</table>\n",
       "</div>"
      ],
      "text/plain": [
       "               Team           Player      Salary Position   intTeam\n",
       "0  New York Yankees    Acevedo, Juan     900,000  Pitcher    900000\n",
       "1  New York Yankees  Anderson, Jason     300,000  Pitcher    300000\n",
       "2  New York Yankees   Clemens, Roger  10,100,000  Pitcher  10100000\n",
       "3  New York Yankees  Contreras, Jose   5,500,000  Pitcher   5500000\n",
       "4  New York Yankees   Flaherty, John     750,000  Catcher    750000"
      ]
     },
     "execution_count": 225,
     "metadata": {},
     "output_type": "execute_result"
    }
   ],
   "source": [
    "pdNY.head()"
   ]
  },
  {
   "cell_type": "code",
   "execution_count": 226,
   "id": "06c2979d-0e9d-409a-877c-f5c74fdc00e2",
   "metadata": {},
   "outputs": [],
   "source": [
    "pdNY = sum(pdNY[\"intTeam\"])"
   ]
  },
  {
   "cell_type": "code",
   "execution_count": 227,
   "id": "54d7b091-b19f-46d2-8a7a-b102ca98c4ac",
   "metadata": {},
   "outputs": [
    {
     "data": {
      "text/plain": [
       "152749814"
      ]
     },
     "execution_count": 227,
     "metadata": {},
     "output_type": "execute_result"
    }
   ],
   "source": [
    "pdNY"
   ]
  },
  {
   "cell_type": "code",
   "execution_count": null,
   "id": "7483e521-de16-4ca8-9e23-9d859ce0bcdc",
   "metadata": {},
   "outputs": [],
   "source": []
  },
  {
   "cell_type": "code",
   "execution_count": 228,
   "id": "16a3f173-8958-4c8f-9f03-3f007a7e68b4",
   "metadata": {},
   "outputs": [],
   "source": [
    "pdBO = pd9[pd9[\"Team\"] == \"Baltimore Orioles\"]"
   ]
  },
  {
   "cell_type": "code",
   "execution_count": 229,
   "id": "6faa628a-d87a-49c3-b7df-2a94f3e20d14",
   "metadata": {},
   "outputs": [
    {
     "data": {
      "text/html": [
       "<div>\n",
       "<style scoped>\n",
       "    .dataframe tbody tr th:only-of-type {\n",
       "        vertical-align: middle;\n",
       "    }\n",
       "\n",
       "    .dataframe tbody tr th {\n",
       "        vertical-align: top;\n",
       "    }\n",
       "\n",
       "    .dataframe thead th {\n",
       "        text-align: right;\n",
       "    }\n",
       "</style>\n",
       "<table border=\"1\" class=\"dataframe\">\n",
       "  <thead>\n",
       "    <tr style=\"text-align: right;\">\n",
       "      <th></th>\n",
       "      <th>Team</th>\n",
       "      <th>Player</th>\n",
       "      <th>Salary</th>\n",
       "      <th>Position</th>\n",
       "      <th>intTeam</th>\n",
       "    </tr>\n",
       "  </thead>\n",
       "  <tbody>\n",
       "    <tr>\n",
       "      <th>140</th>\n",
       "      <td>Baltimore Orioles</td>\n",
       "      <td>Batista, Tony</td>\n",
       "      <td>6,400,000</td>\n",
       "      <td>Third Baseman</td>\n",
       "      <td>6400000</td>\n",
       "    </tr>\n",
       "    <tr>\n",
       "      <th>141</th>\n",
       "      <td>Baltimore Orioles</td>\n",
       "      <td>Bauer, Rick</td>\n",
       "      <td>325,000</td>\n",
       "      <td>Pitcher</td>\n",
       "      <td>325000</td>\n",
       "    </tr>\n",
       "    <tr>\n",
       "      <th>142</th>\n",
       "      <td>Baltimore Orioles</td>\n",
       "      <td>Bedard, Erik</td>\n",
       "      <td>300,000</td>\n",
       "      <td>Pitcher</td>\n",
       "      <td>300000</td>\n",
       "    </tr>\n",
       "    <tr>\n",
       "      <th>143</th>\n",
       "      <td>Baltimore Orioles</td>\n",
       "      <td>Belle, Albert</td>\n",
       "      <td>13,000,000</td>\n",
       "      <td>Outfielder</td>\n",
       "      <td>13000000</td>\n",
       "    </tr>\n",
       "    <tr>\n",
       "      <th>144</th>\n",
       "      <td>Baltimore Orioles</td>\n",
       "      <td>Conine, Jeff</td>\n",
       "      <td>4,250,000</td>\n",
       "      <td>Outfielder</td>\n",
       "      <td>4250000</td>\n",
       "    </tr>\n",
       "  </tbody>\n",
       "</table>\n",
       "</div>"
      ],
      "text/plain": [
       "                  Team         Player      Salary       Position   intTeam\n",
       "140  Baltimore Orioles  Batista, Tony   6,400,000  Third Baseman   6400000\n",
       "141  Baltimore Orioles    Bauer, Rick     325,000        Pitcher    325000\n",
       "142  Baltimore Orioles   Bedard, Erik     300,000        Pitcher    300000\n",
       "143  Baltimore Orioles  Belle, Albert  13,000,000     Outfielder  13000000\n",
       "144  Baltimore Orioles   Conine, Jeff   4,250,000     Outfielder   4250000"
      ]
     },
     "execution_count": 229,
     "metadata": {},
     "output_type": "execute_result"
    }
   ],
   "source": [
    "pdBO.head()"
   ]
  },
  {
   "cell_type": "code",
   "execution_count": 230,
   "id": "6e838cde-513c-41f9-9c42-08e39f7224a6",
   "metadata": {},
   "outputs": [],
   "source": [
    "pdBO = sum(pdBO[\"intTeam\"])"
   ]
  },
  {
   "cell_type": "code",
   "execution_count": 231,
   "id": "910b6520-f82b-4f49-a16b-f11fdcc0e88c",
   "metadata": {},
   "outputs": [
    {
     "data": {
      "text/plain": [
       "73877500"
      ]
     },
     "execution_count": 231,
     "metadata": {},
     "output_type": "execute_result"
    }
   ],
   "source": [
    "pdBO"
   ]
  },
  {
   "cell_type": "code",
   "execution_count": null,
   "id": "577740de-f63d-4691-9d6a-f0fe890ea8f5",
   "metadata": {},
   "outputs": [],
   "source": []
  },
  {
   "cell_type": "code",
   "execution_count": 232,
   "id": "53ea5367-40c7-4ad4-b069-71aedfd8d424",
   "metadata": {},
   "outputs": [],
   "source": [
    "pdBS = pd9[pd9[\"Team\"] == \"Boston Red Sox\"]"
   ]
  },
  {
   "cell_type": "code",
   "execution_count": 233,
   "id": "adadb3d4-08ad-402c-b931-43a3237f37d2",
   "metadata": {},
   "outputs": [
    {
     "data": {
      "text/html": [
       "<div>\n",
       "<style scoped>\n",
       "    .dataframe tbody tr th:only-of-type {\n",
       "        vertical-align: middle;\n",
       "    }\n",
       "\n",
       "    .dataframe tbody tr th {\n",
       "        vertical-align: top;\n",
       "    }\n",
       "\n",
       "    .dataframe thead th {\n",
       "        text-align: right;\n",
       "    }\n",
       "</style>\n",
       "<table border=\"1\" class=\"dataframe\">\n",
       "  <thead>\n",
       "    <tr style=\"text-align: right;\">\n",
       "      <th></th>\n",
       "      <th>Team</th>\n",
       "      <th>Player</th>\n",
       "      <th>Salary</th>\n",
       "      <th>Position</th>\n",
       "      <th>intTeam</th>\n",
       "    </tr>\n",
       "  </thead>\n",
       "  <tbody>\n",
       "    <tr>\n",
       "      <th>55</th>\n",
       "      <td>Boston Red Sox</td>\n",
       "      <td>Burkett, John</td>\n",
       "      <td>5,500,000</td>\n",
       "      <td>Pitcher</td>\n",
       "      <td>5500000</td>\n",
       "    </tr>\n",
       "    <tr>\n",
       "      <th>56</th>\n",
       "      <td>Boston Red Sox</td>\n",
       "      <td>Damon, Johnny</td>\n",
       "      <td>7,500,000</td>\n",
       "      <td>Outfielder</td>\n",
       "      <td>7500000</td>\n",
       "    </tr>\n",
       "    <tr>\n",
       "      <th>57</th>\n",
       "      <td>Boston Red Sox</td>\n",
       "      <td>Embree, Alan</td>\n",
       "      <td>3,000,000</td>\n",
       "      <td>Pitcher</td>\n",
       "      <td>3000000</td>\n",
       "    </tr>\n",
       "    <tr>\n",
       "      <th>58</th>\n",
       "      <td>Boston Red Sox</td>\n",
       "      <td>Fossum, Casey</td>\n",
       "      <td>324,500</td>\n",
       "      <td>Pitcher</td>\n",
       "      <td>324500</td>\n",
       "    </tr>\n",
       "    <tr>\n",
       "      <th>59</th>\n",
       "      <td>Boston Red Sox</td>\n",
       "      <td>Fox, Chad</td>\n",
       "      <td>500,000</td>\n",
       "      <td>Pitcher</td>\n",
       "      <td>500000</td>\n",
       "    </tr>\n",
       "  </tbody>\n",
       "</table>\n",
       "</div>"
      ],
      "text/plain": [
       "              Team         Player     Salary    Position  intTeam\n",
       "55  Boston Red Sox  Burkett, John  5,500,000     Pitcher  5500000\n",
       "56  Boston Red Sox  Damon, Johnny  7,500,000  Outfielder  7500000\n",
       "57  Boston Red Sox   Embree, Alan  3,000,000     Pitcher  3000000\n",
       "58  Boston Red Sox  Fossum, Casey    324,500     Pitcher   324500\n",
       "59  Boston Red Sox      Fox, Chad    500,000     Pitcher   500000"
      ]
     },
     "execution_count": 233,
     "metadata": {},
     "output_type": "execute_result"
    }
   ],
   "source": [
    "pdBS.head()"
   ]
  },
  {
   "cell_type": "code",
   "execution_count": 234,
   "id": "a938c9d3-f9ca-4614-9bf0-982ab426e87d",
   "metadata": {},
   "outputs": [],
   "source": [
    "pdBS = sum(pdBS[\"intTeam\"])"
   ]
  },
  {
   "cell_type": "code",
   "execution_count": 235,
   "id": "ef3a9491-8e1c-4021-abde-eca7e3192266",
   "metadata": {},
   "outputs": [
    {
     "data": {
      "text/plain": [
       "99946500"
      ]
     },
     "execution_count": 235,
     "metadata": {},
     "output_type": "execute_result"
    }
   ],
   "source": [
    "pdBS"
   ]
  },
  {
   "cell_type": "code",
   "execution_count": 236,
   "id": "01d905dc-f002-4ea0-a33a-2a1cbc1fc828",
   "metadata": {},
   "outputs": [],
   "source": [
    "pdTB = pd9[pd9[\"Team\"] == \"Tampa Bay Devil Rays\"]"
   ]
  },
  {
   "cell_type": "code",
   "execution_count": 237,
   "id": "ed164339-c805-4ad3-b60f-91cf1620b467",
   "metadata": {},
   "outputs": [
    {
     "data": {
      "text/html": [
       "<div>\n",
       "<style scoped>\n",
       "    .dataframe tbody tr th:only-of-type {\n",
       "        vertical-align: middle;\n",
       "    }\n",
       "\n",
       "    .dataframe tbody tr th {\n",
       "        vertical-align: top;\n",
       "    }\n",
       "\n",
       "    .dataframe thead th {\n",
       "        text-align: right;\n",
       "    }\n",
       "</style>\n",
       "<table border=\"1\" class=\"dataframe\">\n",
       "  <thead>\n",
       "    <tr style=\"text-align: right;\">\n",
       "      <th></th>\n",
       "      <th>Team</th>\n",
       "      <th>Player</th>\n",
       "      <th>Salary</th>\n",
       "      <th>Position</th>\n",
       "      <th>intTeam</th>\n",
       "    </tr>\n",
       "  </thead>\n",
       "  <tbody>\n",
       "    <tr>\n",
       "      <th>169</th>\n",
       "      <td>Tampa Bay Devil Rays</td>\n",
       "      <td>Abernathy, Brent</td>\n",
       "      <td>300,000</td>\n",
       "      <td>Second Baseman</td>\n",
       "      <td>300000</td>\n",
       "    </tr>\n",
       "    <tr>\n",
       "      <th>170</th>\n",
       "      <td>Tampa Bay Devil Rays</td>\n",
       "      <td>Anderson, Marlon</td>\n",
       "      <td>600,000</td>\n",
       "      <td>Second Baseman</td>\n",
       "      <td>600000</td>\n",
       "    </tr>\n",
       "    <tr>\n",
       "      <th>171</th>\n",
       "      <td>Tampa Bay Devil Rays</td>\n",
       "      <td>Baldelli, Rocco</td>\n",
       "      <td>300,000</td>\n",
       "      <td>Outfielder</td>\n",
       "      <td>300000</td>\n",
       "    </tr>\n",
       "    <tr>\n",
       "      <th>172</th>\n",
       "      <td>Tampa Bay Devil Rays</td>\n",
       "      <td>Bierbrodt, Nick</td>\n",
       "      <td>300,000</td>\n",
       "      <td>Pitcher</td>\n",
       "      <td>300000</td>\n",
       "    </tr>\n",
       "    <tr>\n",
       "      <th>173</th>\n",
       "      <td>Tampa Bay Devil Rays</td>\n",
       "      <td>Carter, Lance</td>\n",
       "      <td>300,000</td>\n",
       "      <td>Pitcher</td>\n",
       "      <td>300000</td>\n",
       "    </tr>\n",
       "  </tbody>\n",
       "</table>\n",
       "</div>"
      ],
      "text/plain": [
       "                     Team            Player   Salary        Position  intTeam\n",
       "169  Tampa Bay Devil Rays  Abernathy, Brent  300,000  Second Baseman   300000\n",
       "170  Tampa Bay Devil Rays  Anderson, Marlon  600,000  Second Baseman   600000\n",
       "171  Tampa Bay Devil Rays   Baldelli, Rocco  300,000      Outfielder   300000\n",
       "172  Tampa Bay Devil Rays   Bierbrodt, Nick  300,000         Pitcher   300000\n",
       "173  Tampa Bay Devil Rays     Carter, Lance  300,000         Pitcher   300000"
      ]
     },
     "execution_count": 237,
     "metadata": {},
     "output_type": "execute_result"
    }
   ],
   "source": [
    "pdTB.head()"
   ]
  },
  {
   "cell_type": "code",
   "execution_count": 238,
   "id": "f798faeb-3f52-4f66-8a52-12a93321206d",
   "metadata": {},
   "outputs": [],
   "source": [
    "pdTB = sum(pdTB[\"intTeam\"])"
   ]
  },
  {
   "cell_type": "code",
   "execution_count": 239,
   "id": "0d346945-0c73-4228-a2f4-6e87fbc63c72",
   "metadata": {},
   "outputs": [
    {
     "data": {
      "text/plain": [
       "19650000"
      ]
     },
     "execution_count": 239,
     "metadata": {},
     "output_type": "execute_result"
    }
   ],
   "source": [
    "pdTB"
   ]
  },
  {
   "cell_type": "code",
   "execution_count": 240,
   "id": "dbee654c-57da-4abe-9690-e4a4fb214835",
   "metadata": {},
   "outputs": [],
   "source": [
    "pdTBJ = pd9[pd9[\"Team\"] == \"Toronto Blue Jays\"]"
   ]
  },
  {
   "cell_type": "code",
   "execution_count": 220,
   "id": "5fe7d4a9-cf7c-4609-b1dd-b30158f5369a",
   "metadata": {},
   "outputs": [
    {
     "data": {
      "text/html": [
       "<div>\n",
       "<style scoped>\n",
       "    .dataframe tbody tr th:only-of-type {\n",
       "        vertical-align: middle;\n",
       "    }\n",
       "\n",
       "    .dataframe tbody tr th {\n",
       "        vertical-align: top;\n",
       "    }\n",
       "\n",
       "    .dataframe thead th {\n",
       "        text-align: right;\n",
       "    }\n",
       "</style>\n",
       "<table border=\"1\" class=\"dataframe\">\n",
       "  <thead>\n",
       "    <tr style=\"text-align: right;\">\n",
       "      <th></th>\n",
       "      <th>Team</th>\n",
       "      <th>Player</th>\n",
       "      <th>Salary</th>\n",
       "      <th>Position</th>\n",
       "      <th>intTeam</th>\n",
       "    </tr>\n",
       "  </thead>\n",
       "  <tbody>\n",
       "  </tbody>\n",
       "</table>\n",
       "</div>"
      ],
      "text/plain": [
       "Empty DataFrame\n",
       "Columns: [Team, Player, Salary, Position, intTeam]\n",
       "Index: []"
      ]
     },
     "execution_count": 220,
     "metadata": {},
     "output_type": "execute_result"
    }
   ],
   "source": [
    "\n",
    "pdTBJ.head()"
   ]
  },
  {
   "cell_type": "code",
   "execution_count": 241,
   "id": "3939fc66-67f3-4c2a-bab5-a3339e8f696e",
   "metadata": {},
   "outputs": [],
   "source": [
    "pdTBJ = sum(pdTBJ[\"intTeam\"])"
   ]
  },
  {
   "cell_type": "code",
   "execution_count": 242,
   "id": "879290f1-f425-44c7-852b-cf092d0a5b4c",
   "metadata": {},
   "outputs": [
    {
     "data": {
      "text/plain": [
       "0"
      ]
     },
     "execution_count": 242,
     "metadata": {},
     "output_type": "execute_result"
    }
   ],
   "source": [
    "pdTBJ"
   ]
  },
  {
   "cell_type": "code",
   "execution_count": 243,
   "id": "63823587-fe1f-46b2-8646-61df69a21292",
   "metadata": {},
   "outputs": [],
   "source": [
    "pd9 = max(pdTBJ,pdTB,pdBS,pdBO,pdNY)"
   ]
  },
  {
   "cell_type": "code",
   "execution_count": 244,
   "id": "2cec6aba-ad71-4c0b-acee-0078d7937284",
   "metadata": {},
   "outputs": [
    {
     "data": {
      "text/plain": [
       "152749814"
      ]
     },
     "execution_count": 244,
     "metadata": {},
     "output_type": "execute_result"
    }
   ],
   "source": [
    "pd9"
   ]
  },
  {
   "cell_type": "markdown",
   "id": "ffa34a32-8447-448d-832e-b2bd4039cc82",
   "metadata": {},
   "source": [
    "##### After calculating the total sum of each teams salary present in the AL East division, we therefore check the maximum amount among all, which results to 152749814, and that proofs the answer to be **New York Yankees team**"
   ]
  },
  {
   "cell_type": "code",
   "execution_count": null,
   "id": "cf8c3879-db19-43d2-852b-2a29783f7148",
   "metadata": {},
   "outputs": [],
   "source": []
  },
  {
   "cell_type": "code",
   "execution_count": null,
   "id": "9fbe81b5-b9d7-4dba-8a1a-c5d405e52b99",
   "metadata": {},
   "outputs": [],
   "source": []
  },
  {
   "cell_type": "markdown",
   "id": "7d31ec32-59c5-4e79-931c-463895abd9c4",
   "metadata": {},
   "source": [
    "### Question 10\n",
    "**What is the total number of players in the AL Central division?**"
   ]
  },
  {
   "cell_type": "code",
   "execution_count": 172,
   "id": "d88cf6ca-8df2-41d9-ade1-7f12de4f8b6f",
   "metadata": {},
   "outputs": [],
   "source": [
    "pd10 = pd1[pd1[\"Team\"].isin([\"Chicago White Sox\", \"Cleveland Guardians\", \"Detroit Tigers\", \"Kansas City Royals\", \"Minnesota Twins\"])]"
   ]
  },
  {
   "cell_type": "code",
   "execution_count": 173,
   "id": "425f9f10-4bf8-48c3-8f91-c60a9ab52a2d",
   "metadata": {},
   "outputs": [
    {
     "data": {
      "text/html": [
       "<div>\n",
       "<style scoped>\n",
       "    .dataframe tbody tr th:only-of-type {\n",
       "        vertical-align: middle;\n",
       "    }\n",
       "\n",
       "    .dataframe tbody tr th {\n",
       "        vertical-align: top;\n",
       "    }\n",
       "\n",
       "    .dataframe thead th {\n",
       "        text-align: right;\n",
       "    }\n",
       "</style>\n",
       "<table border=\"1\" class=\"dataframe\">\n",
       "  <thead>\n",
       "    <tr style=\"text-align: right;\">\n",
       "      <th></th>\n",
       "      <th>Team</th>\n",
       "      <th>Player</th>\n",
       "      <th>Salary</th>\n",
       "      <th>Position</th>\n",
       "      <th>intTeam</th>\n",
       "    </tr>\n",
       "  </thead>\n",
       "  <tbody>\n",
       "    <tr>\n",
       "      <th>194</th>\n",
       "      <td>Kansas City Royals</td>\n",
       "      <td>Affeldt, Jeremy</td>\n",
       "      <td>313,000</td>\n",
       "      <td>Pitcher</td>\n",
       "      <td>313000</td>\n",
       "    </tr>\n",
       "    <tr>\n",
       "      <th>195</th>\n",
       "      <td>Kansas City Royals</td>\n",
       "      <td>Asencio, Miguel</td>\n",
       "      <td>314,000</td>\n",
       "      <td>Pitcher</td>\n",
       "      <td>314000</td>\n",
       "    </tr>\n",
       "    <tr>\n",
       "      <th>196</th>\n",
       "      <td>Kansas City Royals</td>\n",
       "      <td>Beltran, Carlos</td>\n",
       "      <td>6,000,000</td>\n",
       "      <td>Outfielder</td>\n",
       "      <td>6000000</td>\n",
       "    </tr>\n",
       "    <tr>\n",
       "      <th>197</th>\n",
       "      <td>Kansas City Royals</td>\n",
       "      <td>Berger, Grandon</td>\n",
       "      <td>304,000</td>\n",
       "      <td>Outfielder</td>\n",
       "      <td>304000</td>\n",
       "    </tr>\n",
       "    <tr>\n",
       "      <th>198</th>\n",
       "      <td>Kansas City Royals</td>\n",
       "      <td>Berroa, Angel</td>\n",
       "      <td>302,000</td>\n",
       "      <td>Shortstop</td>\n",
       "      <td>302000</td>\n",
       "    </tr>\n",
       "  </tbody>\n",
       "</table>\n",
       "</div>"
      ],
      "text/plain": [
       "                   Team           Player     Salary    Position  intTeam\n",
       "194  Kansas City Royals  Affeldt, Jeremy    313,000     Pitcher   313000\n",
       "195  Kansas City Royals  Asencio, Miguel    314,000     Pitcher   314000\n",
       "196  Kansas City Royals  Beltran, Carlos  6,000,000  Outfielder  6000000\n",
       "197  Kansas City Royals  Berger, Grandon    304,000  Outfielder   304000\n",
       "198  Kansas City Royals    Berroa, Angel    302,000   Shortstop   302000"
      ]
     },
     "execution_count": 173,
     "metadata": {},
     "output_type": "execute_result"
    }
   ],
   "source": [
    "pd10.head()"
   ]
  },
  {
   "cell_type": "code",
   "execution_count": 174,
   "id": "174b8671-8ee3-4994-b7c1-f96dd466c75b",
   "metadata": {},
   "outputs": [
    {
     "data": {
      "text/plain": [
       "104"
      ]
     },
     "execution_count": 174,
     "metadata": {},
     "output_type": "execute_result"
    }
   ],
   "source": [
    "len(pd10[\"Player\"])"
   ]
  },
  {
   "cell_type": "markdown",
   "id": "63daeb56-d873-4c8c-8602-3ba58b1c385a",
   "metadata": {},
   "source": [
    "After filtering down all the teams in the AL central division, the lenght of the total players is **104**"
   ]
  },
  {
   "cell_type": "markdown",
   "id": "3df20677-2fa6-4363-a749-b8aea8232fb4",
   "metadata": {},
   "source": []
  },
  {
   "cell_type": "code",
   "execution_count": null,
   "id": "4994e166-c69a-4559-8c22-639d11d1f707",
   "metadata": {},
   "outputs": [],
   "source": []
  }
 ],
 "metadata": {
  "kernelspec": {
   "display_name": "Python 3 (ipykernel)",
   "language": "python",
   "name": "python3"
  },
  "language_info": {
   "codemirror_mode": {
    "name": "ipython",
    "version": 3
   },
   "file_extension": ".py",
   "mimetype": "text/x-python",
   "name": "python",
   "nbconvert_exporter": "python",
   "pygments_lexer": "ipython3",
   "version": "3.12.3"
  }
 },
 "nbformat": 4,
 "nbformat_minor": 5
}
